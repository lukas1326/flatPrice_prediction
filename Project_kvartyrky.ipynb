{
 "cells": [
  {
   "cell_type": "code",
   "execution_count": 1,
   "metadata": {},
   "outputs": [],
   "source": [
    "import requests\n",
    "from bs4 import BeautifulSoup\n",
    "\n",
    "#SITE = 'https://dom.ria.com/uk/prodazha-kvartir/kiev/?commercial=all&page='\n",
    "SITE = 'https://flatfy.ua/uk/%D0%BF%D1%80%D0%BE%D0%B4%D0%B0%D0%B6-%D0%BA%D0%B2%D0%B0%D1%80%D1%82%D0%B8%D1%80-%D0%BA%D0%B8%D1%97%D0%B2?page=1'"
   ]
  },
  {
   "cell_type": "code",
   "execution_count": 102,
   "metadata": {},
   "outputs": [],
   "source": [
    "import pandas as pd"
   ]
  },
  {
   "cell_type": "code",
   "execution_count": 2,
   "metadata": {},
   "outputs": [],
   "source": [
    "HEADERS = {\n",
    "            'User-Agent': 'Mozilla/5.0 (Windows NT 6.1; WOW64; rv:49.0) Gecko/20100101 Firefox/49.0',\n",
    "            'Accept': 'text/html,application/xhtml+xml,application/xml;q=0.9,*/*;q=0.8',\n",
    "            'Accept-Language': 'en-US,en;q=0.5',\n",
    "            'Accept-Encoding': 'gzip, deflate',\n",
    "            'DNT': '1',\n",
    "            'Connection': 'keep-alive',\n",
    "            'Upgrade-Insecure-Requests': '1'\n",
    "        }\n"
   ]
  },
  {
   "cell_type": "code",
   "execution_count": 3,
   "metadata": {},
   "outputs": [],
   "source": [
    "r = requests.get(SITE, headers = HEADERS)\n"
   ]
  },
  {
   "cell_type": "code",
   "execution_count": 4,
   "metadata": {},
   "outputs": [],
   "source": [
    "soup = BeautifulSoup(r.text, 'lxml')"
   ]
  },
  {
   "cell_type": "code",
   "execution_count": 5,
   "metadata": {
    "scrolled": true
   },
   "outputs": [
    {
     "name": "stdout",
     "output_type": "stream",
     "text": [
      "поверх 1 з 12\n",
      "поверх 2 з 9\n",
      "поверх 4 з 32\n",
      "поверх 2 з 5\n",
      "поверх 16 з 24\n",
      "поверх 1 з 6\n",
      "поверх 3 з 24\n",
      "поверх 5 з 10\n",
      "поверх 9 з 18\n",
      "поверх 3 з 24\n",
      "поверх 16 з 24\n",
      "поверх 11 з 18\n",
      "поверх 18 з 24\n",
      "поверх 16 з 16\n",
      "поверх 9 з 25\n",
      "поверх 11 з 30\n",
      "поверх 1 з 21\n",
      "поверх 9 з 24\n",
      "поверх 10 з 12\n",
      "поверх 13 з 16\n",
      "поверх 7 з 25\n",
      "поверх 4 з 5\n",
      "поверх 13 з 24\n"
     ]
    }
   ],
   "source": [
    "substr = 'поверх'\n",
    "for el in soup.find_all('span',class_ = 'realty-preview__info'):\n",
    "    if substr in el.text:\n",
    "        print(el.text)"
   ]
  },
  {
   "cell_type": "code",
   "execution_count": 34,
   "metadata": {},
   "outputs": [],
   "source": [
    "import pickle"
   ]
  },
  {
   "cell_type": "code",
   "execution_count": 6,
   "metadata": {},
   "outputs": [
    {
     "ename": "NameError",
     "evalue": "name 'pickle' is not defined",
     "output_type": "error",
     "traceback": [
      "\u001b[1;31m---------------------------------------------------------------------------\u001b[0m",
      "\u001b[1;31mNameError\u001b[0m                                 Traceback (most recent call last)",
      "\u001b[1;32m<ipython-input-6-ca13b74bf163>\u001b[0m in \u001b[0;36m<module>\u001b[1;34m\u001b[0m\n\u001b[0;32m      1\u001b[0m \u001b[1;32mwith\u001b[0m \u001b[0mopen\u001b[0m\u001b[1;33m(\u001b[0m\u001b[1;34m'districts.pickle'\u001b[0m\u001b[1;33m,\u001b[0m \u001b[1;34m'rb'\u001b[0m\u001b[1;33m)\u001b[0m \u001b[1;32mas\u001b[0m \u001b[0mf\u001b[0m\u001b[1;33m:\u001b[0m\u001b[1;33m\u001b[0m\u001b[1;33m\u001b[0m\u001b[0m\n\u001b[1;32m----> 2\u001b[1;33m     \u001b[0msecond_dict\u001b[0m \u001b[1;33m=\u001b[0m \u001b[0mpickle\u001b[0m\u001b[1;33m.\u001b[0m\u001b[0mload\u001b[0m\u001b[1;33m(\u001b[0m\u001b[0mf\u001b[0m\u001b[1;33m)\u001b[0m       \u001b[1;31m#load - загружає структуру із файлу\u001b[0m\u001b[1;33m\u001b[0m\u001b[1;33m\u001b[0m\u001b[0m\n\u001b[0m\u001b[0;32m      3\u001b[0m \u001b[1;33m\u001b[0m\u001b[0m\n\u001b[0;32m      4\u001b[0m \u001b[0msecond_dict\u001b[0m\u001b[1;33m\u001b[0m\u001b[1;33m\u001b[0m\u001b[0m\n",
      "\u001b[1;31mNameError\u001b[0m: name 'pickle' is not defined"
     ]
    }
   ],
   "source": [
    "with open('districts.pickle', 'rb') as f:\n",
    "    second_dict = pickle.load(f)       #load - загружає структуру із файлу\n",
    "    \n",
    "second_dict"
   ]
  },
  {
   "cell_type": "code",
   "execution_count": 7,
   "metadata": {
    "scrolled": true
   },
   "outputs": [
    {
     "name": "stdout",
     "output_type": "stream",
     "text": [
      "Note: you may need to restart the kernel to use updated packages.Collecting geopandas\n",
      "  Using cached geopandas-0.9.0-py2.py3-none-any.whl (994 kB)\n",
      "Collecting shapely>=1.6\n",
      "  Using cached Shapely-1.7.1-cp38-cp38-win_amd64.whl (1.0 MB)\n",
      "Collecting fiona>=1.8\n",
      "  Using cached Fiona-1.8.19.tar.gz (1.3 MB)\n",
      "\n"
     ]
    },
    {
     "name": "stderr",
     "output_type": "stream",
     "text": [
      "    ERROR: Command errored out with exit status 1:\n",
      "     command: 'C:\\Users\\olga\\anaconda3\\python.exe' -c 'import sys, setuptools, tokenize; sys.argv[0] = '\"'\"'C:\\\\Users\\\\olga\\\\AppData\\\\Local\\\\Temp\\\\pip-install-mlubn06q\\\\fiona\\\\setup.py'\"'\"'; __file__='\"'\"'C:\\\\Users\\\\olga\\\\AppData\\\\Local\\\\Temp\\\\pip-install-mlubn06q\\\\fiona\\\\setup.py'\"'\"';f=getattr(tokenize, '\"'\"'open'\"'\"', open)(__file__);code=f.read().replace('\"'\"'\\r\\n'\"'\"', '\"'\"'\\n'\"'\"');f.close();exec(compile(code, __file__, '\"'\"'exec'\"'\"'))' egg_info --egg-base 'C:\\Users\\olga\\AppData\\Local\\Temp\\pip-pip-egg-info-jeh0aj3s'\n",
      "         cwd: C:\\Users\\olga\\AppData\\Local\\Temp\\pip-install-mlubn06q\\fiona\\\n",
      "    Complete output (1 lines):\n",
      "    A GDAL API version must be specified. Provide a path to gdal-config using a GDAL_CONFIG environment variable or use a GDAL_VERSION environment variable.\n",
      "    ----------------------------------------\n",
      "ERROR: Command errored out with exit status 1: python setup.py egg_info Check the logs for full command output.\n"
     ]
    },
    {
     "name": "stdout",
     "output_type": "stream",
     "text": [
      "Requirement already satisfied: geopy in c:\\users\\olga\\anaconda3\\lib\\site-packages (2.1.0)\n",
      "Requirement already satisfied: geographiclib<2,>=1.49 in c:\\users\\olga\\anaconda3\\lib\\site-packages (from geopy) (1.50)\n",
      "Note: you may need to restart the kernel to use updated packages.\n"
     ]
    }
   ],
   "source": [
    "%pip install geopandas\n",
    "%pip install geopy"
   ]
  },
  {
   "cell_type": "code",
   "execution_count": 10,
   "metadata": {},
   "outputs": [
    {
     "name": "stdout",
     "output_type": "stream",
     "text": [
      "Collecting geocoderNote: you may need to restart the kernel to use updated packages.\n",
      "\n",
      "  Downloading geocoder-1.38.1-py2.py3-none-any.whl (98 kB)\n",
      "Requirement already satisfied: future in c:\\users\\olga\\anaconda3\\lib\\site-packages (from geocoder) (0.18.2)\n",
      "Requirement already satisfied: click in c:\\users\\olga\\anaconda3\\lib\\site-packages (from geocoder) (7.1.2)\n",
      "Collecting ratelim\n",
      "  Downloading ratelim-0.1.6-py2.py3-none-any.whl (4.0 kB)\n",
      "Requirement already satisfied: requests in c:\\users\\olga\\anaconda3\\lib\\site-packages (from geocoder) (2.24.0)\n",
      "Requirement already satisfied: six in c:\\users\\olga\\anaconda3\\lib\\site-packages (from geocoder) (1.15.0)\n",
      "Requirement already satisfied: decorator in c:\\users\\olga\\anaconda3\\lib\\site-packages (from ratelim->geocoder) (4.4.2)\n",
      "Requirement already satisfied: chardet<4,>=3.0.2 in c:\\users\\olga\\anaconda3\\lib\\site-packages (from requests->geocoder) (3.0.4)\n",
      "Requirement already satisfied: idna<3,>=2.5 in c:\\users\\olga\\anaconda3\\lib\\site-packages (from requests->geocoder) (2.10)\n",
      "Requirement already satisfied: certifi>=2017.4.17 in c:\\users\\olga\\anaconda3\\lib\\site-packages (from requests->geocoder) (2020.6.20)\n",
      "Requirement already satisfied: urllib3!=1.25.0,!=1.25.1,<1.26,>=1.21.1 in c:\\users\\olga\\anaconda3\\lib\\site-packages (from requests->geocoder) (1.25.11)\n",
      "Installing collected packages: ratelim, geocoder\n",
      "Successfully installed geocoder-1.38.1 ratelim-0.1.6\n"
     ]
    }
   ],
   "source": [
    "%pip install geocoder\n",
    "\n",
    "import geocoder"
   ]
  },
  {
   "cell_type": "code",
   "execution_count": 19,
   "metadata": {},
   "outputs": [],
   "source": [
    "g = geocoder.arcgis('вул. Лейпцизька, 13,Київ')"
   ]
  },
  {
   "cell_type": "code",
   "execution_count": 20,
   "metadata": {},
   "outputs": [
    {
     "data": {
      "text/plain": [
       "[50.431210003062716, 30.549470032821176]"
      ]
     },
     "execution_count": 20,
     "metadata": {},
     "output_type": "execute_result"
    }
   ],
   "source": [
    "g.latlng"
   ]
  },
  {
   "cell_type": "code",
   "execution_count": 112,
   "metadata": {},
   "outputs": [],
   "source": [
    "import re\n",
    "def conv_coordinates(lat):\n",
    "    deg, minutes, seconds, direction =  re.split('[°\\′″]', lat)\n",
    "    return (float(deg) + float(minutes)/60 + float(seconds)/(60*60)) * (-1 if direction in ['W', 'S'] else 1)"
   ]
  },
  {
   "cell_type": "code",
   "execution_count": 32,
   "metadata": {},
   "outputs": [],
   "source": [
    "SITE = 'https://en.wikipedia.org/wiki/Zhytomyrska_(Kyiv_Metro)'"
   ]
  },
  {
   "cell_type": "code",
   "execution_count": 33,
   "metadata": {},
   "outputs": [],
   "source": [
    "r = requests.get(SITE, headers = HEADERS)"
   ]
  },
  {
   "cell_type": "code",
   "execution_count": 34,
   "metadata": {},
   "outputs": [],
   "source": [
    "soup = BeautifulSoup(r.text, 'lxml')"
   ]
  },
  {
   "cell_type": "code",
   "execution_count": 39,
   "metadata": {},
   "outputs": [
    {
     "data": {
      "text/plain": [
       "'50°27′21″N'"
      ]
     },
     "execution_count": 39,
     "metadata": {},
     "output_type": "execute_result"
    }
   ],
   "source": [
    "lat = soup.find('span',class_ = 'latitude')\n",
    "lat.text"
   ]
  },
  {
   "cell_type": "code",
   "execution_count": 40,
   "metadata": {},
   "outputs": [
    {
     "name": "stdout",
     "output_type": "stream",
     "text": [
      "50.45583333333334\n"
     ]
    }
   ],
   "source": [
    "conv_coordinates(lat.text)"
   ]
  },
  {
   "cell_type": "code",
   "execution_count": 38,
   "metadata": {},
   "outputs": [
    {
     "data": {
      "text/plain": [
       "<span class=\"longitude\">30°21′51″E</span>"
      ]
     },
     "execution_count": 38,
     "metadata": {},
     "output_type": "execute_result"
    }
   ],
   "source": [
    "soup.find('span',class_ = 'longitude')"
   ]
  },
  {
   "cell_type": "code",
   "execution_count": 41,
   "metadata": {},
   "outputs": [],
   "source": [
    "SITE = 'https://en.wikipedia.org/wiki/Sviatoshynsko%E2%80%93Brovarska_line'"
   ]
  },
  {
   "cell_type": "code",
   "execution_count": 42,
   "metadata": {},
   "outputs": [],
   "source": [
    "r = requests.get(SITE, headers = HEADERS)\n",
    "soup = BeautifulSoup(r.text, 'lxml')"
   ]
  },
  {
   "cell_type": "code",
   "execution_count": 59,
   "metadata": {},
   "outputs": [
    {
     "name": "stdout",
     "output_type": "stream",
     "text": [
      "72\n"
     ]
    }
   ],
   "source": [
    "metro_station = []\n",
    "for li in soup.find_all('li'):\n",
    "    try:\n",
    "        metro = li.a.get('href')\n",
    "        if '(Kyiv_Metro)'in metro:\n",
    "            metro_station.append(metro)\n",
    "    except:\n",
    "        None\n",
    "print(len(metro_station))"
   ]
  },
  {
   "cell_type": "code",
   "execution_count": 60,
   "metadata": {},
   "outputs": [],
   "source": [
    "metro_link = set(metro_station)"
   ]
  },
  {
   "cell_type": "code",
   "execution_count": 85,
   "metadata": {},
   "outputs": [],
   "source": [
    "metro_link = list(metro_link)"
   ]
  },
  {
   "cell_type": "code",
   "execution_count": 115,
   "metadata": {},
   "outputs": [
    {
     "data": {
      "text/plain": [
       "[('Sviatoshyn (Kyiv Metro)', 50.4575, 30.391944444444444),\n",
       " ('Vystavkovyi Tsentr (Kyiv Metro)', 50.3825, 30.4775),\n",
       " ('Khreshchatyk (Kyiv Metro)', 50.447222222222216, 30.522777777777776),\n",
       " ('Dorohozhychi (Kyiv Metro)', 50.47361111111111, 30.449166666666667),\n",
       " ('Syrets (Kyiv Metro)', 50.47638888888889, 30.430833333333336),\n",
       " ('Kontraktova Ploshcha (Kyiv Metro)', 50.46527777777778, 30.516666666666666),\n",
       " ('Zoloti Vorota (Kyiv Metro)', 50.44833333333333, 30.513333333333332),\n",
       " ('Vokzalna (Kyiv Metro)', 50.44166666666666, 30.488055555555558),\n",
       " ('Maidan Nezalezhnosti (Kyiv Metro)', 50.45, 30.524444444444445),\n",
       " ('Palats Sportu (Kyiv Metro)', 50.43805555555555, 30.520833333333332),\n",
       " ('Chervonyi Khutir (Kyiv Metro)', 50.40888888888889, 30.694444444444446),\n",
       " ('Beresteiska (Kyiv Metro)', 50.45861111111111, 30.419722222222223),\n",
       " ('Vyrlytsia (Kyiv Metro)', 50.40333333333333, 30.66611111111111),\n",
       " ('Pochaina (Kyiv Metro)', 50.48694444444445, 30.497777777777777),\n",
       " ('Teremky (Kyiv Metro)', 50.367044444444446, 30.454202777777777),\n",
       " ('Obolon (Kyiv Metro)', 50.50138888888889, 30.498055555555556),\n",
       " ('Olimpiiska (Kyiv Metro)', 50.43222222222222, 30.516111111111112),\n",
       " ('Demiivska (Kyiv Metro)', 50.40479166666667, 30.51683333333333),\n",
       " ('Tarasa Shevchenka (Kyiv Metro)', 50.473055555555554, 30.505277777777778),\n",
       " ('Darnytsia (Kyiv Metro)', 50.455555555555556, 30.613333333333333),\n",
       " ('Zhytomyrska (Kyiv Metro)', 50.45583333333334, 30.36416666666667),\n",
       " ('Lisova (Kyiv Metro)', 50.464444444444446, 30.645),\n",
       " ('Vydubychi (Kyiv Metro)', 50.40222222222222, 30.560833333333335),\n",
       " ('Klovska (Kyiv Metro)', 50.43694444444444, 30.531666666666666),\n",
       " ('Lukianivska (Kyiv Metro)', 50.462500000000006, 30.481944444444444),\n",
       " ('Kharkivska (Kyiv Metro)', 50.40083333333333, 30.65222222222222),\n",
       " ('Pozniaky (Kyiv Metro)', 50.39805555555556, 30.633333333333333),\n",
       " ('Heroiv Dnipra (Kyiv Metro)', 50.522777777777776, 30.498611111111114),\n",
       " ('Lvivska Brama (Kyiv Metro)', 50.454347222222225, 30.50301388888889),\n",
       " ('Osokorky (Kyiv Metro)', 50.39555555555555, 30.615833333333335),\n",
       " ('Holosiivska (Kyiv Metro)', 50.3975, 30.508333333333333),\n",
       " ('Boryspilska (Kyiv Metro)', 50.40333333333333, 30.68277777777778),\n",
       " ('Lybidska (Kyiv Metro)', 50.41305555555555, 30.524444444444445),\n",
       " ('Telychka (Kyiv Metro)', 50.396388888888886, 30.571666666666665),\n",
       " ('Ipodrom (Kyiv Metro)', 50.37638888888889, 30.468888888888888),\n",
       " ('Livoberezhna (Kyiv Metro)', 50.45194444444445, 30.598333333333333),\n",
       " ('Slavutych (Kyiv Metro)', 50.39416666666666, 30.604166666666668),\n",
       " ('Chernihivska (Kyiv Metro)', 50.46, 30.630833333333335),\n",
       " ('Druzhby Narodiv (Kyiv Metro)', 50.418055555555554, 30.545),\n",
       " ('Minska (Kyiv Metro)', 50.51222222222222, 30.498611111111114),\n",
       " ('Poshtova Ploshcha (Kyiv Metro)', 50.45916666666667, 30.525),\n",
       " ('Pecherska (Kyiv Metro)', 50.427499999999995, 30.53888888888889),\n",
       " ('Teatralna (Kyiv Metro)', 50.445277777777775, 30.518055555555556),\n",
       " ('Palats \"Ukrayina\" (Kyiv Metro)', 50.420833333333334, 30.520833333333332),\n",
       " ('Akademmistechko (Kyiv Metro)', 50.46555555555556, 30.355),\n",
       " ('Ploshcha Lva Tolstoho (Kyiv Metro)', 50.43944444444444, 30.516666666666666),\n",
       " ('Vasylkivska (Kyiv Metro)', 50.39333333333333, 30.488055555555558),\n",
       " ('Nyvky (Kyiv Metro)', 50.45916666666667, 30.406388888888888),\n",
       " ('Shuliavska (Kyiv Metro)', 50.455000000000005, 30.445555555555554),\n",
       " ('Politekhnichnyi Instytut (Kyiv Metro)',\n",
       "  50.450833333333335,\n",
       "  30.46638888888889),\n",
       " ('Dnipro (Kyiv Metro)', 50.441111111111105, 30.559166666666666),\n",
       " ('Arsenalna (Kyiv Metro)', 50.44444444444444, 30.545555555555556),\n",
       " ('Hydropark (Kyiv Metro)', 50.44583333333333, 30.576944444444443),\n",
       " ('Universytet (Kyiv Metro)', 50.44416666666666, 30.50611111111111)]"
      ]
     },
     "execution_count": 115,
     "metadata": {},
     "output_type": "execute_result"
    }
   ],
   "source": [
    "SITE = 'https://en.wikipedia.org'\n",
    "metro_lat = []\n",
    "for i in metro_link:\n",
    "    r = requests.get(SITE+i, headers=HEADERS)\n",
    "    if r.status_code == 200:\n",
    "        soup = BeautifulSoup(r.text, 'lxml')\n",
    "        el1 = soup.find('span', class_='latitude').text\n",
    "        el2 = soup.find('span', class_='longitude').text\n",
    "        station = soup.find('h1', class_='firstHeading').text\n",
    "        el1 = conv_coordinates(el1)\n",
    "        el2 = conv_coordinates(el2)\n",
    "        \n",
    "        \n",
    "        coord = (station,el1,el2)\n",
    "        \n",
    "        metro_lat.append(coord)\n",
    "metro_lat"
   ]
  },
  {
   "cell_type": "code",
   "execution_count": 117,
   "metadata": {},
   "outputs": [],
   "source": [
    "metro = pd.DataFrame(metro_lat)"
   ]
  },
  {
   "cell_type": "code",
   "execution_count": 118,
   "metadata": {},
   "outputs": [],
   "source": [
    "import pickle\n",
    "with open('metro.pickle', 'wb') as f:     #pickle працює в бінарному режимі \n",
    "    pickle.dump(metro, f)"
   ]
  },
  {
   "cell_type": "code",
   "execution_count": 97,
   "metadata": {},
   "outputs": [
    {
     "data": {
      "text/plain": [
       "(54, 54)"
      ]
     },
     "execution_count": 97,
     "metadata": {},
     "output_type": "execute_result"
    }
   ],
   "source": [
    "len(metro_lat),len(metro_link)"
   ]
  },
  {
   "cell_type": "code",
   "execution_count": 65,
   "metadata": {},
   "outputs": [
    {
     "data": {
      "text/plain": [
       "{'/wiki/Akademmistechko_(Kyiv_Metro)',\n",
       " '/wiki/Arsenalna_(Kyiv_Metro)',\n",
       " '/wiki/Beresteiska_(Kyiv_Metro)',\n",
       " '/wiki/Boryspilska_(Kyiv_Metro)',\n",
       " '/wiki/Chernihivska_(Kyiv_Metro)',\n",
       " '/wiki/Chervonyi_Khutir_(Kyiv_Metro)',\n",
       " '/wiki/Darnytsia_(Kyiv_Metro)',\n",
       " '/wiki/Demiivska_(Kyiv_Metro)',\n",
       " '/wiki/Dnipro_(Kyiv_Metro)',\n",
       " '/wiki/Dorohozhychi_(Kyiv_Metro)',\n",
       " '/wiki/Druzhby_Narodiv_(Kyiv_Metro)',\n",
       " '/wiki/Heroiv_Dnipra_(Kyiv_Metro)',\n",
       " '/wiki/Holosiivska_(Kyiv_Metro)',\n",
       " '/wiki/Hydropark_(Kyiv_Metro)',\n",
       " '/wiki/Ipodrom_(Kyiv_Metro)',\n",
       " '/wiki/Kharkivska_(Kyiv_Metro)',\n",
       " '/wiki/Khreshchatyk_(Kyiv_Metro)',\n",
       " '/wiki/Klovska_(Kyiv_Metro)',\n",
       " '/wiki/Kontraktova_Ploshcha_(Kyiv_Metro)',\n",
       " '/wiki/Lisova_(Kyiv_Metro)',\n",
       " '/wiki/Livoberezhna_(Kyiv_Metro)',\n",
       " '/wiki/Lukianivska_(Kyiv_Metro)',\n",
       " '/wiki/Lvivska_Brama_(Kyiv_Metro)',\n",
       " '/wiki/Lybidska_(Kyiv_Metro)',\n",
       " '/wiki/Maidan_Nezalezhnosti_(Kyiv_Metro)',\n",
       " '/wiki/Minska_(Kyiv_Metro)',\n",
       " '/wiki/Nyvky_(Kyiv_Metro)',\n",
       " '/wiki/Obolon_(Kyiv_Metro)',\n",
       " '/wiki/Olimpiiska_(Kyiv_Metro)',\n",
       " '/wiki/Osokorky_(Kyiv_Metro)',\n",
       " '/wiki/Palats_%22Ukrayina%22_(Kyiv_Metro)',\n",
       " '/wiki/Palats_Sportu_(Kyiv_Metro)',\n",
       " '/wiki/Pecherska_(Kyiv_Metro)',\n",
       " '/wiki/Ploshcha_Lva_Tolstoho_(Kyiv_Metro)',\n",
       " '/wiki/Pochaina_(Kyiv_Metro)',\n",
       " '/wiki/Politekhnichnyi_Instytut_(Kyiv_Metro)',\n",
       " '/wiki/Poshtova_Ploshcha_(Kyiv_Metro)',\n",
       " '/wiki/Pozniaky_(Kyiv_Metro)',\n",
       " '/wiki/Shuliavska_(Kyiv_Metro)',\n",
       " '/wiki/Slavutych_(Kyiv_Metro)',\n",
       " '/wiki/Sviatoshyn_(Kyiv_Metro)',\n",
       " '/wiki/Syrets_(Kyiv_Metro)',\n",
       " '/wiki/Tarasa_Shevchenka_(Kyiv_Metro)',\n",
       " '/wiki/Teatralna_(Kyiv_Metro)',\n",
       " '/wiki/Telychka_(Kyiv_Metro)',\n",
       " '/wiki/Teremky_(Kyiv_Metro)',\n",
       " '/wiki/Universytet_(Kyiv_Metro)',\n",
       " '/wiki/Vasylkivska_(Kyiv_Metro)',\n",
       " '/wiki/Vokzalna_(Kyiv_Metro)',\n",
       " '/wiki/Vydubychi_(Kyiv_Metro)',\n",
       " '/wiki/Vyrlytsia_(Kyiv_Metro)',\n",
       " '/wiki/Vystavkovyi_Tsentr_(Kyiv_Metro)',\n",
       " '/wiki/Zhytomyrska_(Kyiv_Metro)',\n",
       " '/wiki/Zoloti_Vorota_(Kyiv_Metro)'}"
      ]
     },
     "execution_count": 65,
     "metadata": {},
     "output_type": "execute_result"
    }
   ],
   "source": [
    "metro_link"
   ]
  },
  {
   "cell_type": "code",
   "execution_count": null,
   "metadata": {},
   "outputs": [],
   "source": []
  }
 ],
 "metadata": {
  "kernelspec": {
   "display_name": "Python 3",
   "language": "python",
   "name": "python3"
  },
  "language_info": {
   "codemirror_mode": {
    "name": "ipython",
    "version": 3
   },
   "file_extension": ".py",
   "mimetype": "text/x-python",
   "name": "python",
   "nbconvert_exporter": "python",
   "pygments_lexer": "ipython3",
   "version": "3.8.5"
  }
 },
 "nbformat": 4,
 "nbformat_minor": 4
}
