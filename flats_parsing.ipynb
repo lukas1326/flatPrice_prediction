{
 "cells": [
  {
   "cell_type": "code",
   "execution_count": 1,
   "metadata": {},
   "outputs": [],
   "source": [
    "import requests\n",
    "from bs4 import BeautifulSoup\n",
    "import pandas as pd\n",
    "import pickle\n",
    "#SITE = 'https://dom.ria.com/uk/prodazha-kvartir/kiev/?commercial=all&page='\n"
   ]
  },
  {
   "cell_type": "code",
   "execution_count": null,
   "metadata": {},
   "outputs": [],
   "source": [
    "# Параметри: \n",
    "#     - район\n",
    "#     - площа (кв м)\n",
    "#     - кількість кімнат\n",
    "#     - поверховість\n",
    "#     - близькість до метро (1-дуже близько, 2 - до 20 хв ходьби, 3 - далеко)\n",
    "#     - ЖК (так/ні)\n",
    "\n",
    "# Ваша модель повинна на всіх приймати ці параметри, які я описав\n",
    "# Результат повинна буде ціна оренди\n",
    "\n",
    "# Де взяти дані для навчання моделі - вирішуйте в групі \n",
    "\n",
    "# Можете більше районів опрацювати, головне, щоб були ті, що  я вказав"
   ]
  },
  {
   "cell_type": "code",
   "execution_count": 2,
   "metadata": {},
   "outputs": [],
   "source": [
    "SITE = 'https://flatfy.ua/uk/%D0%BE%D1%80%D0%B5%D0%BD%D0%B4%D0%B0-%D0%BA%D0%B2%D0%B0%D1%80%D1%82%D0%B8%D1%80-%D0%BA%D0%B8%D1%97%D0%B2?page=1'"
   ]
  },
  {
   "cell_type": "code",
   "execution_count": 3,
   "metadata": {},
   "outputs": [],
   "source": [
    "HEADERS = {\n",
    "            'User-Agent': 'Mozilla/5.0 (Windows NT 6.1; WOW64; rv:49.0) Gecko/20100101 Firefox/49.0',\n",
    "            'Accept': 'text/html,application/xhtml+xml,application/xml;q=0.9,*/*;q=0.8',\n",
    "            'Accept-Language': 'en-US,en;q=0.5',\n",
    "            'Accept-Encoding': 'gzip, deflate',\n",
    "            'DNT': '1',\n",
    "            'Connection': 'keep-alive',\n",
    "            'Upgrade-Insecure-Requests': '1'\n",
    "        }\n"
   ]
  },
  {
   "cell_type": "code",
   "execution_count": 1,
   "metadata": {},
   "outputs": [],
   "source": [
    "### Район"
   ]
  },
  {
   "cell_type": "code",
   "execution_count": 174,
   "metadata": {},
   "outputs": [],
   "source": [
    "r = requests.get(SITE, headers = HEADERS)\n"
   ]
  },
  {
   "cell_type": "code",
   "execution_count": 5,
   "metadata": {},
   "outputs": [],
   "source": [
    "soup = BeautifulSoup(r.text, 'lxml')"
   ]
  },
  {
   "cell_type": "code",
   "execution_count": null,
   "metadata": {},
   "outputs": [],
   "source": [
    "# address: a realty-preview__title-link\n",
    "# floor : span realty-preview__info\n",
    "# a realty-preview__sub-title"
   ]
  },
  {
   "cell_type": "code",
   "execution_count": 6,
   "metadata": {},
   "outputs": [],
   "source": [
    "# dictricts collected all info in list\n",
    "district = []\n",
    "for el in soup.find_all('div',class_ = 'realty-content-layout__sub-title-row'):\n",
    "       district.append(el)"
   ]
  },
  {
   "cell_type": "code",
   "execution_count": 7,
   "metadata": {},
   "outputs": [],
   "source": [
    "districs = []\n",
    "for distr in range(len(district)):    \n",
    "    azh = []\n",
    "    for i in district[distr]:\n",
    "        azh.append(i.text)\n",
    "    districs.append((azh[-2]))"
   ]
  },
  {
   "cell_type": "code",
   "execution_count": 8,
   "metadata": {},
   "outputs": [
    {
     "data": {
      "text/plain": [
       "24"
      ]
     },
     "execution_count": 8,
     "metadata": {},
     "output_type": "execute_result"
    }
   ],
   "source": [
    "len(districs)"
   ]
  },
  {
   "cell_type": "code",
   "execution_count": 9,
   "metadata": {},
   "outputs": [
    {
     "data": {
      "text/plain": [
       "['Деснянський',\n",
       " 'Дніпровський',\n",
       " 'Оболонський',\n",
       " 'Голосіївський',\n",
       " 'Дарницький',\n",
       " 'Дніпровський',\n",
       " \"Солом'янський\",\n",
       " 'Оболонський',\n",
       " 'Подільський',\n",
       " \"Солом'янський\",\n",
       " 'Дніпровський',\n",
       " 'Деснянський',\n",
       " 'Шевченківський',\n",
       " 'Подільський',\n",
       " 'Дніпровський',\n",
       " 'Голосіївський',\n",
       " 'Дарницький',\n",
       " 'Дарницький',\n",
       " 'Голосіївський',\n",
       " 'Святошинський',\n",
       " 'Дніпровський',\n",
       " 'Святошинський',\n",
       " 'Святошинський',\n",
       " 'Голосіївський']"
      ]
     },
     "execution_count": 9,
     "metadata": {},
     "output_type": "execute_result"
    }
   ],
   "source": [
    "districs"
   ]
  },
  {
   "cell_type": "code",
   "execution_count": null,
   "metadata": {},
   "outputs": [],
   "source": [
    "# replacements = {\n",
    "#     'Нижній Печерськ': 'Печерськ',\n",
    "#     'Позняки': 'Східні Позняки',\n",
    "#     3: 30,\n",
    "# }\n",
    "\n",
    "# a = [replacements.get(x, x) for x in a]"
   ]
  },
  {
   "cell_type": "code",
   "execution_count": 39,
   "metadata": {
    "scrolled": true
   },
   "outputs": [
    {
     "data": {
      "text/html": [
       "<div>\n",
       "<style scoped>\n",
       "    .dataframe tbody tr th:only-of-type {\n",
       "        vertical-align: middle;\n",
       "    }\n",
       "\n",
       "    .dataframe tbody tr th {\n",
       "        vertical-align: top;\n",
       "    }\n",
       "\n",
       "    .dataframe thead th {\n",
       "        text-align: right;\n",
       "    }\n",
       "</style>\n",
       "<table border=\"1\" class=\"dataframe\">\n",
       "  <thead>\n",
       "    <tr style=\"text-align: right;\">\n",
       "      <th></th>\n",
       "      <th>total</th>\n",
       "      <th>transport</th>\n",
       "      <th>infrastructure</th>\n",
       "      <th>rest</th>\n",
       "      <th>security</th>\n",
       "      <th>eko</th>\n",
       "    </tr>\n",
       "  </thead>\n",
       "  <tbody>\n",
       "    <tr>\n",
       "      <th>Голосіїв</th>\n",
       "      <td>10.0</td>\n",
       "      <td>10.0</td>\n",
       "      <td>10.0</td>\n",
       "      <td>10.0</td>\n",
       "      <td>10.0</td>\n",
       "      <td>10.0</td>\n",
       "    </tr>\n",
       "    <tr>\n",
       "      <th>Оболонь</th>\n",
       "      <td>9.7</td>\n",
       "      <td>9.7</td>\n",
       "      <td>9.9</td>\n",
       "      <td>9.8</td>\n",
       "      <td>9.7</td>\n",
       "      <td>9.6</td>\n",
       "    </tr>\n",
       "    <tr>\n",
       "      <th>Мишоловка</th>\n",
       "      <td>9.6</td>\n",
       "      <td>8.0</td>\n",
       "      <td>10.0</td>\n",
       "      <td>10.0</td>\n",
       "      <td>10.0</td>\n",
       "      <td>10.0</td>\n",
       "    </tr>\n",
       "    <tr>\n",
       "      <th>Теремки-2</th>\n",
       "      <td>9.0</td>\n",
       "      <td>9.0</td>\n",
       "      <td>9.0</td>\n",
       "      <td>9.0</td>\n",
       "      <td>9.0</td>\n",
       "      <td>9.0</td>\n",
       "    </tr>\n",
       "    <tr>\n",
       "      <th>Китаїв</th>\n",
       "      <td>8.7</td>\n",
       "      <td>8.8</td>\n",
       "      <td>6.0</td>\n",
       "      <td>9.3</td>\n",
       "      <td>9.5</td>\n",
       "      <td>10.0</td>\n",
       "    </tr>\n",
       "    <tr>\n",
       "      <th>...</th>\n",
       "      <td>...</td>\n",
       "      <td>...</td>\n",
       "      <td>...</td>\n",
       "      <td>...</td>\n",
       "      <td>...</td>\n",
       "      <td>...</td>\n",
       "    </tr>\n",
       "    <tr>\n",
       "      <th>Монтажник</th>\n",
       "      <td>1.0</td>\n",
       "      <td>1.0</td>\n",
       "      <td>1.0</td>\n",
       "      <td>1.0</td>\n",
       "      <td>1.0</td>\n",
       "      <td>1.0</td>\n",
       "    </tr>\n",
       "    <tr>\n",
       "      <th>Жовтневе</th>\n",
       "      <td>1.0</td>\n",
       "      <td>1.0</td>\n",
       "      <td>1.0</td>\n",
       "      <td>1.0</td>\n",
       "      <td>1.0</td>\n",
       "      <td>1.0</td>\n",
       "    </tr>\n",
       "    <tr>\n",
       "      <th>Петрівка</th>\n",
       "      <td>1.0</td>\n",
       "      <td>1.0</td>\n",
       "      <td>1.0</td>\n",
       "      <td>1.0</td>\n",
       "      <td>1.0</td>\n",
       "      <td>1.0</td>\n",
       "    </tr>\n",
       "    <tr>\n",
       "      <th>Перемога</th>\n",
       "      <td>1.0</td>\n",
       "      <td>1.0</td>\n",
       "      <td>1.0</td>\n",
       "      <td>1.0</td>\n",
       "      <td>1.0</td>\n",
       "      <td>1.0</td>\n",
       "    </tr>\n",
       "    <tr>\n",
       "      <th>Кудрявець</th>\n",
       "      <td>1.0</td>\n",
       "      <td>1.0</td>\n",
       "      <td>1.0</td>\n",
       "      <td>1.0</td>\n",
       "      <td>1.0</td>\n",
       "      <td>1.0</td>\n",
       "    </tr>\n",
       "  </tbody>\n",
       "</table>\n",
       "<p>99 rows × 6 columns</p>\n",
       "</div>"
      ],
      "text/plain": [
       "          total transport infrastructure  rest security   eko\n",
       "Голосіїв   10.0      10.0           10.0  10.0     10.0  10.0\n",
       "Оболонь     9.7       9.7            9.9   9.8      9.7   9.6\n",
       "Мишоловка   9.6       8.0           10.0  10.0     10.0  10.0\n",
       "Теремки-2   9.0       9.0            9.0   9.0      9.0   9.0\n",
       "Китаїв      8.7       8.8            6.0   9.3      9.5  10.0\n",
       "...         ...       ...            ...   ...      ...   ...\n",
       "Монтажник   1.0       1.0            1.0   1.0      1.0   1.0\n",
       "Жовтневе    1.0       1.0            1.0   1.0      1.0   1.0\n",
       "Петрівка    1.0       1.0            1.0   1.0      1.0   1.0\n",
       "Перемога    1.0       1.0            1.0   1.0      1.0   1.0\n",
       "Кудрявець   1.0       1.0            1.0   1.0      1.0   1.0\n",
       "\n",
       "[99 rows x 6 columns]"
      ]
     },
     "execution_count": 39,
     "metadata": {},
     "output_type": "execute_result"
    }
   ],
   "source": [
    "with open('districts.pickle', 'rb') as f:\n",
    "    defined_distr = pickle.load(f)       #load - загружає структуру із файлу\n",
    "    \n",
    "defined_distr"
   ]
  },
  {
   "cell_type": "code",
   "execution_count": 59,
   "metadata": {},
   "outputs": [
    {
     "data": {
      "text/html": [
       "<div>\n",
       "<style scoped>\n",
       "    .dataframe tbody tr th:only-of-type {\n",
       "        vertical-align: middle;\n",
       "    }\n",
       "\n",
       "    .dataframe tbody tr th {\n",
       "        vertical-align: top;\n",
       "    }\n",
       "\n",
       "    .dataframe thead th {\n",
       "        text-align: right;\n",
       "    }\n",
       "</style>\n",
       "<table border=\"1\" class=\"dataframe\">\n",
       "  <thead>\n",
       "    <tr style=\"text-align: right;\">\n",
       "      <th></th>\n",
       "      <th>Rayon</th>\n",
       "      <th>microRayon</th>\n",
       "    </tr>\n",
       "  </thead>\n",
       "  <tbody>\n",
       "    <tr>\n",
       "      <th>0</th>\n",
       "      <td>Голосіївський</td>\n",
       "      <td>Голосіїв, Китаїв, Мишоловка, Саперна слобідка,...</td>\n",
       "    </tr>\n",
       "    <tr>\n",
       "      <th>1</th>\n",
       "      <td>Дарницький</td>\n",
       "      <td>Нова Дарниця, Харківський масив, Східні Позняк...</td>\n",
       "    </tr>\n",
       "    <tr>\n",
       "      <th>2</th>\n",
       "      <td>Деснянський</td>\n",
       "      <td>Вигурівщина-Троєщина, Лісовий масив, Троєщина,...</td>\n",
       "    </tr>\n",
       "    <tr>\n",
       "      <th>3</th>\n",
       "      <td>Дніпровський</td>\n",
       "      <td>Соцмісто, Стара Дарниця, Русанівка, Березняки,...</td>\n",
       "    </tr>\n",
       "    <tr>\n",
       "      <th>4</th>\n",
       "      <td>Оболонський</td>\n",
       "      <td>Оболонь, Вишгородський масив, Мінський масив, ...</td>\n",
       "    </tr>\n",
       "    <tr>\n",
       "      <th>5</th>\n",
       "      <td>Печерський</td>\n",
       "      <td>Печерськ, Липки, Звіринець, Теличка, Чорна гор...</td>\n",
       "    </tr>\n",
       "    <tr>\n",
       "      <th>6</th>\n",
       "      <td>Подільський</td>\n",
       "      <td>Поділ, Куренівка, Пріорка, Мостицький масив, В...</td>\n",
       "    </tr>\n",
       "    <tr>\n",
       "      <th>7</th>\n",
       "      <td>Святошинський</td>\n",
       "      <td>Микільська Борщагівка, Південна Борщагівка, Бр...</td>\n",
       "    </tr>\n",
       "    <tr>\n",
       "      <th>8</th>\n",
       "      <td>Солом'янський</td>\n",
       "      <td>Солом'янка, Батиєва гора, Залізничний масив, П...</td>\n",
       "    </tr>\n",
       "    <tr>\n",
       "      <th>9</th>\n",
       "      <td>Шевченківський</td>\n",
       "      <td>Лук'янівка, Кудрявець, Татарка, Сирець, Волейк...</td>\n",
       "    </tr>\n",
       "  </tbody>\n",
       "</table>\n",
       "</div>"
      ],
      "text/plain": [
       "            Rayon                                         microRayon\n",
       "0   Голосіївський  Голосіїв, Китаїв, Мишоловка, Саперна слобідка,...\n",
       "1      Дарницький  Нова Дарниця, Харківський масив, Східні Позняк...\n",
       "2     Деснянський  Вигурівщина-Троєщина, Лісовий масив, Троєщина,...\n",
       "3    Дніпровський  Соцмісто, Стара Дарниця, Русанівка, Березняки,...\n",
       "4     Оболонський  Оболонь, Вишгородський масив, Мінський масив, ...\n",
       "5      Печерський  Печерськ, Липки, Звіринець, Теличка, Чорна гор...\n",
       "6     Подільський  Поділ, Куренівка, Пріорка, Мостицький масив, В...\n",
       "7   Святошинський  Микільська Борщагівка, Південна Борщагівка, Бр...\n",
       "8   Солом'янський  Солом'янка, Батиєва гора, Залізничний масив, П...\n",
       "9  Шевченківський  Лук'янівка, Кудрявець, Татарка, Сирець, Волейк..."
      ]
     },
     "execution_count": 59,
     "metadata": {},
     "output_type": "execute_result"
    }
   ],
   "source": [
    "pd.read_excel('mircoRayon1.xls')"
   ]
  },
  {
   "cell_type": "code",
   "execution_count": 53,
   "metadata": {},
   "outputs": [
    {
     "data": {
      "text/plain": [
       "Index(['Голосіїв', 'Оболонь', 'Мишоловка', 'Теремки-2', 'Китаїв',\n",
       "       'Караваєві Дачі', 'Теремки-1', 'Проспект Науки', 'Лук'янівка',\n",
       "       'Русанівка', 'Печерськ', 'Нижня Теличка', 'Пирогів',\n",
       "       'Харківський Масив', 'ВДНГ', 'Липки', 'Поділ', 'Оболонський',\n",
       "       'Голосіївський', 'Шевченківський', 'Новобіличі', 'Солом'янський',\n",
       "       'Солом'янка', 'Мінський Масив', 'Сирець', 'Академмістечко', 'Шулявка',\n",
       "       'Татарка', 'Печерський', 'Осокорки', 'Корчувате', 'Виноградар',\n",
       "       'Дарницький', 'Дніпровський', 'Нивки', 'Чоколівка', 'Подільський',\n",
       "       'Святошинський', 'Деміївка', 'Микільська Борщагівка', 'Авіамістечко',\n",
       "       'Березняки', 'Феофанія', 'Північно-Броварський Масив', 'Стара Дарниця',\n",
       "       'Соцмісто', 'Відрадний', 'Східні Позняки', 'Паньківщина',\n",
       "       'Лівобережний Масив', 'Конча-Заспа', 'Деснянський',\n",
       "       'Вишгородський Масив', 'Лісовий Масив', 'Борщагівка', 'Святошин',\n",
       "       'Троєщина', 'Пуща-Водиця', 'Добрий Шлях', 'Вітряні Гори',\n",
       "       'Кадетський Гай', 'Солдатська Слобідка', 'Звіринець', 'Ґалаґани',\n",
       "       'Куренівка', 'Нова Дарниця', 'Пріорка', 'Чорна Гора', 'Біличі',\n",
       "       'Воскресенка', 'Дарницький Масив', 'Південна Борщагівка',\n",
       "       'Західні Позняки', 'Микільська Слобідка', 'Биківня', 'Берковець',\n",
       "       'Саперна Слобідка', 'Гідропарк', 'Райдужний Масив', 'Мостицький Масив',\n",
       "       'Північні Осокорки', 'Батиєва Гора', 'Бортничі', 'Біличе Поле', 'ДВРЗ',\n",
       "       'Вигурівщина-Троєщина', 'Саперне Поле', 'Залізничний Масив',\n",
       "       'Русанівські Сади', 'Теличка', 'Першотравневий Масив', 'Совки',\n",
       "       'Труханів Острів', 'Олександрівська Слобідка', 'Монтажник', 'Жовтневе',\n",
       "       'Петрівка', 'Перемога', 'Кудрявець'],\n",
       "      dtype='object')"
      ]
     },
     "execution_count": 53,
     "metadata": {},
     "output_type": "execute_result"
    }
   ],
   "source": [
    "defined_distr.index"
   ]
  },
  {
   "cell_type": "code",
   "execution_count": null,
   "metadata": {},
   "outputs": [],
   "source": [
    "#[f(x) if condition else g(x) for x in sequence]"
   ]
  },
  {
   "cell_type": "code",
   "execution_count": 87,
   "metadata": {},
   "outputs": [
    {
     "data": {
      "text/plain": [
       "[]"
      ]
     },
     "execution_count": 87,
     "metadata": {},
     "output_type": "execute_result"
    }
   ],
   "source": [
    "#parent = soup.find('div',class_='realty-content-layout__main-row')\n",
    "soup.select('.div.realty-preview__base > div.realty-preview__content-column > div > div.realty-content-layout__main-row > a:nth-child(1) > div > div:nth-child(2) > div.realty-content-layout__property.area')"
   ]
  },
  {
   "cell_type": "code",
   "execution_count": null,
   "metadata": {},
   "outputs": [],
   "source": [
    "div class=\"realty-preview__price\">6 000 грн</div>\n",
    "<div class=\"realty-preview__price--sqm\">154 грн за м²</div><"
   ]
  },
  {
   "cell_type": "code",
   "execution_count": 142,
   "metadata": {},
   "outputs": [
    {
     "name": "stdout",
     "output_type": "stream",
     "text": [
      "154 грн за м²\n",
      "194 грн за м²\n",
      "276 грн за м²\n",
      "3 507 $ за м²\n",
      "185 грн за м²\n",
      "250 грн за м²\n",
      "259 грн за м²\n",
      "220 грн за м²\n",
      "191 грн за м²\n",
      "194 грн за м²\n",
      "491 грн за м²\n",
      "129 грн за м²\n",
      "264 грн за м²\n",
      "280 грн за м²\n",
      "326 грн за м²\n",
      "479 грн за м²\n",
      "350 грн за м²\n",
      "286 грн за м²\n",
      "191 грн за м²\n",
      "225 грн за м²\n",
      "191 грн за м²\n",
      "5 € за м²\n",
      "175 грн за м²\n",
      "286 грн за м²\n"
     ]
    }
   ],
   "source": [
    "for i in soup.find_all('div', class_='realty-preview__price--sqm'):\n",
    "    print(i.text)"
   ]
  },
  {
   "cell_type": "code",
   "execution_count": 141,
   "metadata": {},
   "outputs": [
    {
     "name": "stdout",
     "output_type": "stream",
     "text": [
      "6 000 грн\n",
      "7 000 грн\n",
      "10 500 грн\n",
      "235 000 $\n",
      "23 000 грн\n",
      "14 000 грн\n",
      "7 500 грн\n",
      "11 000 грн\n",
      "6 500 грн\n",
      "6 000 грн\n",
      "27 000 грн\n",
      "9 000 грн\n",
      "9 500 грн\n",
      "14 000 грн\n",
      "7 500 грн\n",
      "23 000 грн\n",
      "17 500 грн\n",
      "10 000 грн\n",
      "10 500 грн\n",
      "9 000 грн\n",
      "10 500 грн\n",
      "650 €\n",
      "7 000 грн\n",
      "18 000 грн\n"
     ]
    }
   ],
   "source": [
    "for i in soup.find_all('div', class_='realty-preview__price'):\n",
    "    print(i.text)"
   ]
  },
  {
   "cell_type": "code",
   "execution_count": 138,
   "metadata": {},
   "outputs": [
    {
     "data": {
      "text/plain": [
       "38.96103896103896"
      ]
     },
     "execution_count": 138,
     "metadata": {},
     "output_type": "execute_result"
    }
   ],
   "source": [
    "6000/154"
   ]
  },
  {
   "cell_type": "code",
   "execution_count": null,
   "metadata": {},
   "outputs": [],
   "source": [
    "#\\33 83373683 > div.realty-preview__base > div.realty-preview__content-column > div > div.realty-content-layout__main-row > a:nth-child(1) > div > div:nth-child(2) > div.realty-content-layout__property.area"
   ]
  },
  {
   "cell_type": "code",
   "execution_count": 149,
   "metadata": {},
   "outputs": [],
   "source": [
    "# кількість кімнат\n",
    "# площа\n",
    "\n",
    "rooms = []\n",
    "for el in soup.find_all('div',class_ = 'realty-content-layout__properties'):\n",
    "       rooms.append(el.text)"
   ]
  },
  {
   "cell_type": "code",
   "execution_count": 150,
   "metadata": {
    "scrolled": true
   },
   "outputs": [
    {
     "data": {
      "text/plain": [
       "['6\\xa0000 грн154 грн за м²',\n",
       " 'поверх 3 з 9',\n",
       " '7\\xa0000 грн194 грн за м²',\n",
       " 'поверх 7 з 9цегляний будинок',\n",
       " '10\\xa0500 грн276 грн за м²',\n",
       " 'поверх 6 з 91974панельні',\n",
       " '235\\xa0000 $3\\xa0507 $ за м²',\n",
       " 'поверх 18 з 322016спец. проектмонолітно-каркасний',\n",
       " '23\\xa0000 грн185 грн за м²',\n",
       " 'поверх 6 з 242009спец. проектмонолітно-каркасний',\n",
       " '14\\xa0000 грн250 грн за м²',\n",
       " 'поверх 4 з 222006спец. проектмонолітно-каркасний',\n",
       " '7\\xa0500 грн259 грн за м²',\n",
       " 'поверх 7 з 91977гостинкацегляний будинок',\n",
       " '11\\xa0000 грн220 грн за м²',\n",
       " 'поверх 6 з 91981серія 134утеплена панель',\n",
       " '6\\xa0500 грн191 грн за м²',\n",
       " 'поверх 6 з 91974панельні',\n",
       " '6\\xa0000 грн194 грн за м²',\n",
       " 'поверх 2 з 51962хрущівкапанельні',\n",
       " '27\\xa0000 грн491 грн за м²',\n",
       " 'поверх 9 з 252020цегляний будинок',\n",
       " '9\\xa0000 грн129 грн за м²',\n",
       " 'поверх 10 з 252010АППС-люксутеплена панель',\n",
       " '9\\xa0500 грн264 грн за м²',\n",
       " 'поверх 3 з 5',\n",
       " '14\\xa0000 грн280 грн за м²',\n",
       " 'поверх 6 з 71994спец. проектцегляний будинок',\n",
       " '7\\xa0500 грн326 грн за м²',\n",
       " 'поверх 3 з 91973гостинкацегляний будинок',\n",
       " '23\\xa0000 грн479 грн за м²',\n",
       " 'поверх 17 з 232019спец. проектмонолітно-каркасний',\n",
       " '17\\xa0500 грн350 грн за м²',\n",
       " 'поверх 15 з 25',\n",
       " '10\\xa0000 грн286 грн за м²',\n",
       " 'поверх 12 з 25',\n",
       " '10\\xa0500 грн191 грн за м²',\n",
       " 'поверх 10 з 242013спец. проектмонолітно-каркасний',\n",
       " '9\\xa0000 грн225 грн за м²',\n",
       " 'поверх 3 з 101995серія KПцегляний будинок',\n",
       " '10\\xa0500 грн191 грн за м²',\n",
       " 'поверх 11 з 25',\n",
       " '650 €5 € за м²',\n",
       " 'поверх 4 з 7цегляний будинок',\n",
       " '7\\xa0000 грн175 грн за м²',\n",
       " 'поверх 2 з 161994АППСутеплена панель',\n",
       " '18\\xa0000 грн286 грн за м²',\n",
       " 'поверх 6 з 91967цегляний будинок']"
      ]
     },
     "execution_count": 150,
     "metadata": {},
     "output_type": "execute_result"
    }
   ],
   "source": [
    "rooms"
   ]
  },
  {
   "cell_type": "code",
   "execution_count": 161,
   "metadata": {},
   "outputs": [],
   "source": [
    "for item_n in soup.find_all('div', class_='realty-content-layout__property')[2]:\n",
    "            for item_n_text in item_n.find_all(name=\"span\"):\n",
    "                print(item_n_text.text)"
   ]
  },
  {
   "cell_type": "code",
   "execution_count": 175,
   "metadata": {
    "scrolled": false
   },
   "outputs": [
    {
     "data": {
      "text/plain": [
       "[<a class=\"realty-preview__content-link\" data-event-action=\"click\" data-event-category=\"card\" data-event-label=\"content\" href=\"/uk/redirect/383379129\" rel=\"nofollow noopener\" target=\"_blank\"><div class=\"realty-content-layout__properties\"><div class=\"realty-content-layout__properties-row\"><div class=\"realty-content-layout__property\"><div class=\"realty-preview__price\">6 000 грн</div></div></div><div class=\"realty-content-layout__properties-row\"><div class=\"realty-content-layout__property\"><div class=\"realty-preview__price--sqm\">162 грн за м²</div></div></div></div></a>,\n",
       " <a class=\"realty-preview__content-link\" data-event-action=\"click\" data-event-category=\"card\" data-event-label=\"content\" href=\"/uk/redirect/383379129\" rel=\"nofollow noopener\" target=\"_blank\"><div class=\"realty-content-layout__properties\"><div class=\"realty-content-layout__properties-row\"><div class=\"realty-content-layout__property\"><span class=\"realty-preview__info\">поверх 3 з 9</span></div><div class=\"realty-content-layout__property\"></div></div></div><div class=\"realty-content-layout__properties-row realty-content-layout__time-row\"><div class=\"realty-content-layout__property\"><span class=\"realty-preview__info realty-preview__info--time\">Оновлено<!-- -->: <span>сьогодні о <!-- -->02:30</span></span></div><div class=\"realty-content-layout__property\"><span class=\"realty-preview__info realty-preview__info--time\">Знайдено<!-- -->: <span>сьогодні о <!-- -->02:30</span></span></div></div></a>,\n",
       " <a class=\"realty-preview__content-link\" data-event-action=\"click\" data-event-category=\"card\" data-event-label=\"content\" href=\"/uk/redirect/383376494\" rel=\"nofollow noopener\" target=\"_blank\"><div class=\"realty-content-layout__properties\"><div class=\"realty-content-layout__properties-row\"><div class=\"realty-content-layout__property\"><div class=\"realty-preview__price\">16 500 грн</div></div></div><div class=\"realty-content-layout__properties-row\"><div class=\"realty-content-layout__property\"><div class=\"realty-preview__price--sqm\">330 грн за м²</div></div></div></div></a>,\n",
       " <a class=\"realty-preview__content-link\" data-event-action=\"click\" data-event-category=\"card\" data-event-label=\"content\" href=\"/uk/redirect/383376494\" rel=\"nofollow noopener\" target=\"_blank\"><div class=\"realty-content-layout__properties\"><div class=\"realty-content-layout__properties-row\"><div class=\"realty-content-layout__property\"><span class=\"realty-preview__info\">поверх 19 з 25</span></div><div class=\"realty-content-layout__property\"></div></div></div><div class=\"realty-content-layout__properties-row realty-content-layout__time-row\"><div class=\"realty-content-layout__property\"><span class=\"realty-preview__info realty-preview__info--time\">Оновлено<!-- -->: <span>вчора о <!-- -->23:40</span></span></div><div class=\"realty-content-layout__property\"><span class=\"realty-preview__info realty-preview__info--time\">Знайдено<!-- -->: <span>вчора о <!-- -->23:40</span></span></div></div></a>,\n",
       " <a class=\"realty-preview__content-link\" data-event-action=\"click\" data-event-category=\"card\" data-event-label=\"content\" href=\"/uk/redirect/383376446\" rel=\"nofollow noopener\" target=\"_blank\"><div class=\"realty-content-layout__properties\"><div class=\"realty-content-layout__properties-row\"><div class=\"realty-content-layout__property\"><div class=\"realty-preview__price\">6 500 грн</div></div></div><div class=\"realty-content-layout__properties-row\"><div class=\"realty-content-layout__property\"><div class=\"realty-preview__price--sqm\">203 грн за м²</div></div></div></div></a>,\n",
       " <a class=\"realty-preview__content-link\" data-event-action=\"click\" data-event-category=\"card\" data-event-label=\"content\" href=\"/uk/redirect/383376446\" rel=\"nofollow noopener\" target=\"_blank\"><div class=\"realty-content-layout__properties\"><div class=\"realty-content-layout__properties-row\"><div class=\"realty-content-layout__property\"><span class=\"realty-preview__info\">поверх 5 з 9</span></div><div class=\"realty-content-layout__property\"><span class=\"realty-preview__info\">1985</span></div></div><div class=\"realty-content-layout__properties-row\"><div class=\"realty-content-layout__property\"><span class=\"realty-preview__info\">гостинка</span></div><div class=\"realty-content-layout__property\"><span class=\"realty-preview__info\">цегляний будинок</span></div></div></div><div class=\"realty-content-layout__properties-row realty-content-layout__time-row\"><div class=\"realty-content-layout__property\"><span class=\"realty-preview__info realty-preview__info--time\">Оновлено<!-- -->: <span>вчора о <!-- -->23:35</span></span></div><div class=\"realty-content-layout__property\"><span class=\"realty-preview__info realty-preview__info--time\">Знайдено<!-- -->: <span>вчора о <!-- -->23:35</span></span></div></div></a>,\n",
       " <a class=\"realty-preview__content-link\" data-event-action=\"click\" data-event-category=\"card\" data-event-label=\"content\" href=\"/uk/redirect/383376308\" rel=\"nofollow noopener\" target=\"_blank\"><div class=\"realty-content-layout__properties\"><div class=\"realty-content-layout__properties-row\"><div class=\"realty-content-layout__property\"><div class=\"realty-preview__price\">15 500 грн</div></div></div><div class=\"realty-content-layout__properties-row\"><div class=\"realty-content-layout__property\"><div class=\"realty-preview__price--sqm\">344 грн за м²</div></div></div></div></a>,\n",
       " <a class=\"realty-preview__content-link\" data-event-action=\"click\" data-event-category=\"card\" data-event-label=\"content\" href=\"/uk/redirect/383376308\" rel=\"nofollow noopener\" target=\"_blank\"><div class=\"realty-content-layout__properties\"><div class=\"realty-content-layout__properties-row\"><div class=\"realty-content-layout__property\"><span class=\"realty-preview__info\">поверх 8 з 10</span></div><div class=\"realty-content-layout__property\"><span class=\"realty-preview__info\">2017</span></div></div><div class=\"realty-content-layout__properties-row\"><div class=\"realty-content-layout__property\"><span class=\"realty-preview__info\">спец. проект</span></div><div class=\"realty-content-layout__property\"><span class=\"realty-preview__info\">монолітно-каркасний</span></div></div></div><div class=\"realty-content-layout__properties-row realty-content-layout__time-row\"><div class=\"realty-content-layout__property\"><span class=\"realty-preview__info realty-preview__info--time\">Оновлено<!-- -->: <span>вчора о <!-- -->23:30</span></span></div><div class=\"realty-content-layout__property\"><span class=\"realty-preview__info realty-preview__info--time\">Знайдено<!-- -->: <span>вчора о <!-- -->23:30</span></span></div></div></a>,\n",
       " <a class=\"realty-preview__content-link\" data-event-action=\"click\" data-event-category=\"card\" data-event-label=\"content\" href=\"/uk/redirect/383375546\" rel=\"nofollow noopener\" target=\"_blank\"><div class=\"realty-content-layout__properties\"><div class=\"realty-content-layout__properties-row\"><div class=\"realty-content-layout__property\"><div class=\"realty-preview__price\">11 000 грн</div></div></div><div class=\"realty-content-layout__properties-row\"><div class=\"realty-content-layout__property\"><div class=\"realty-preview__price--sqm\">314 грн за м²</div></div></div></div></a>,\n",
       " <a class=\"realty-preview__content-link\" data-event-action=\"click\" data-event-category=\"card\" data-event-label=\"content\" href=\"/uk/redirect/383375546\" rel=\"nofollow noopener\" target=\"_blank\"><div class=\"realty-content-layout__properties\"><div class=\"realty-content-layout__properties-row\"><div class=\"realty-content-layout__property\"><span class=\"realty-preview__info\">поверх 4 з 15</span></div><div class=\"realty-content-layout__property\"><span class=\"realty-preview__info\">1979</span></div></div><div class=\"realty-content-layout__properties-row\"><div class=\"realty-content-layout__property\"><span class=\"realty-preview__info\">БПС</span></div><div class=\"realty-content-layout__property\"><span class=\"realty-preview__info\">утеплена панель</span></div></div></div><div class=\"realty-content-layout__properties-row realty-content-layout__time-row\"><div class=\"realty-content-layout__property\"><span class=\"realty-preview__info realty-preview__info--time\">Оновлено<!-- -->: <span>вчора о <!-- -->22:45</span></span></div><div class=\"realty-content-layout__property\"><span class=\"realty-preview__info realty-preview__info--time\">Знайдено<!-- -->: <span>вчора о <!-- -->22:45</span></span></div></div></a>,\n",
       " <a class=\"realty-preview__content-link\" data-event-action=\"click\" data-event-category=\"card\" data-event-label=\"content\" href=\"/uk/redirect/383375482\" rel=\"nofollow noopener\" target=\"_blank\"><div class=\"realty-content-layout__properties\"><div class=\"realty-content-layout__properties-row\"><div class=\"realty-content-layout__property\"><div class=\"realty-preview__price\">27 500 грн</div></div></div><div class=\"realty-content-layout__properties-row\"><div class=\"realty-content-layout__property\"><div class=\"realty-preview__price--sqm\">474 грн за м²</div></div></div></div></a>,\n",
       " <a class=\"realty-preview__content-link\" data-event-action=\"click\" data-event-category=\"card\" data-event-label=\"content\" href=\"/uk/redirect/383375482\" rel=\"nofollow noopener\" target=\"_blank\"><div class=\"realty-content-layout__properties\"><div class=\"realty-content-layout__properties-row\"><div class=\"realty-content-layout__property\"><span class=\"realty-preview__info\">поверх 22 з 25</span></div><div class=\"realty-content-layout__property\"><span class=\"realty-preview__info\">2015</span></div></div><div class=\"realty-content-layout__properties-row\"><div class=\"realty-content-layout__property\"><span class=\"realty-preview__info\">спец. проект</span></div><div class=\"realty-content-layout__property\"><span class=\"realty-preview__info\">монолітно-каркасний</span></div></div></div><div class=\"realty-content-layout__properties-row realty-content-layout__time-row\"><div class=\"realty-content-layout__property\"><span class=\"realty-preview__info realty-preview__info--time\">Оновлено<!-- -->: <span>вчора о <!-- -->22:25</span></span></div><div class=\"realty-content-layout__property\"><span class=\"realty-preview__info realty-preview__info--time\">Знайдено<!-- -->: <span>вчора о <!-- -->22:25</span></span></div></div></a>,\n",
       " <a class=\"realty-preview__content-link\" data-event-action=\"click\" data-event-category=\"card\" data-event-label=\"content\" href=\"/uk/redirect/383375476\" rel=\"nofollow noopener\" target=\"_blank\"><div class=\"realty-content-layout__properties\"><div class=\"realty-content-layout__properties-row\"><div class=\"realty-content-layout__property\"><div class=\"realty-preview__price\">18 000 грн</div></div></div><div class=\"realty-content-layout__properties-row\"><div class=\"realty-content-layout__property\"><div class=\"realty-preview__price--sqm\">383 грн за м²</div></div></div></div></a>,\n",
       " <a class=\"realty-preview__content-link\" data-event-action=\"click\" data-event-category=\"card\" data-event-label=\"content\" href=\"/uk/redirect/383375476\" rel=\"nofollow noopener\" target=\"_blank\"><div class=\"realty-content-layout__properties\"><div class=\"realty-content-layout__properties-row\"><div class=\"realty-content-layout__property\"><span class=\"realty-preview__info\">поверх 12 з 26</span></div><div class=\"realty-content-layout__property\"><span class=\"realty-preview__info\">2018</span></div></div><div class=\"realty-content-layout__properties-row\"><div class=\"realty-content-layout__property\"><span class=\"realty-preview__info\">спец. проект</span></div><div class=\"realty-content-layout__property\"><span class=\"realty-preview__info\">монолітно-каркасний</span></div></div></div><div class=\"realty-content-layout__properties-row realty-content-layout__time-row\"><div class=\"realty-content-layout__property\"><span class=\"realty-preview__info realty-preview__info--time\">Оновлено<!-- -->: <span>вчора о <!-- -->22:15</span></span></div><div class=\"realty-content-layout__property\"><span class=\"realty-preview__info realty-preview__info--time\">Знайдено<!-- -->: <span>вчора о <!-- -->22:15</span></span></div></div></a>,\n",
       " <a class=\"realty-preview__content-link\" data-event-action=\"click\" data-event-category=\"card\" data-event-label=\"content\" href=\"/uk/redirect/383375467\" rel=\"nofollow noopener\" target=\"_blank\"><div class=\"realty-content-layout__properties\"><div class=\"realty-content-layout__properties-row\"><div class=\"realty-content-layout__property\"><div class=\"realty-preview__price\">9 000 грн</div></div></div><div class=\"realty-content-layout__properties-row\"><div class=\"realty-content-layout__property\"><div class=\"realty-preview__price--sqm\">265 грн за м²</div></div></div></div></a>,\n",
       " <a class=\"realty-preview__content-link\" data-event-action=\"click\" data-event-category=\"card\" data-event-label=\"content\" href=\"/uk/redirect/383375467\" rel=\"nofollow noopener\" target=\"_blank\"><div class=\"realty-content-layout__properties\"><div class=\"realty-content-layout__properties-row\"><div class=\"realty-content-layout__property\"><span class=\"realty-preview__info\">поверх 3 з 9</span></div><div class=\"realty-content-layout__property\"><span class=\"realty-preview__info\">1970</span></div></div><div class=\"realty-content-layout__properties-row\"><div class=\"realty-content-layout__property\"></div><div class=\"realty-content-layout__property\"><span class=\"realty-preview__info\">панельні</span></div></div></div><div class=\"realty-content-layout__properties-row realty-content-layout__time-row\"><div class=\"realty-content-layout__property\"><span class=\"realty-preview__info realty-preview__info--time\">Оновлено<!-- -->: <span>вчора о <!-- -->22:11</span></span></div><div class=\"realty-content-layout__property\"><span class=\"realty-preview__info realty-preview__info--time\">Знайдено<!-- -->: <span>вчора о <!-- -->22:11</span></span></div></div></a>,\n",
       " <a class=\"realty-preview__content-link\" data-event-action=\"click\" data-event-category=\"card\" data-event-label=\"content\" href=\"/uk/redirect/383375454\" rel=\"nofollow noopener\" target=\"_blank\"><div class=\"realty-content-layout__properties\"><div class=\"realty-content-layout__properties-row\"><div class=\"realty-content-layout__property\"><div class=\"realty-preview__price\">1 700 $</div></div></div><div class=\"realty-content-layout__properties-row\"><div class=\"realty-content-layout__property\"><div class=\"realty-preview__price--sqm\">25 $ за м²</div></div></div></div></a>,\n",
       " <a class=\"realty-preview__content-link\" data-event-action=\"click\" data-event-category=\"card\" data-event-label=\"content\" href=\"/uk/redirect/383375454\" rel=\"nofollow noopener\" target=\"_blank\"><div class=\"realty-content-layout__properties\"><div class=\"realty-content-layout__properties-row\"><div class=\"realty-content-layout__property\"><span class=\"realty-preview__info\">поверх 20 з 24</span></div><div class=\"realty-content-layout__property\"><span class=\"realty-preview__info\">2017</span></div></div><div class=\"realty-content-layout__properties-row\"><div class=\"realty-content-layout__property\"><span class=\"realty-preview__info\">спец. проект</span></div><div class=\"realty-content-layout__property\"><span class=\"realty-preview__info\">монолітно-каркасний</span></div></div></div><div class=\"realty-content-layout__properties-row realty-content-layout__time-row\"><div class=\"realty-content-layout__property\"><span class=\"realty-preview__info realty-preview__info--time\">Оновлено<!-- -->: <span>вчора о <!-- -->22:10</span></span></div><div class=\"realty-content-layout__property\"><span class=\"realty-preview__info realty-preview__info--time\">Знайдено<!-- -->: <span>вчора о <!-- -->22:10</span></span></div></div></a>,\n",
       " <a class=\"realty-preview__content-link\" data-event-action=\"click\" data-event-category=\"card\" data-event-label=\"content\" href=\"/uk/redirect/383375451\" rel=\"nofollow noopener\" target=\"_blank\"><div class=\"realty-content-layout__properties\"><div class=\"realty-content-layout__properties-row\"><div class=\"realty-content-layout__property\"><div class=\"realty-preview__price\">1 700 $</div></div></div><div class=\"realty-content-layout__properties-row\"><div class=\"realty-content-layout__property\"><div class=\"realty-preview__price--sqm\">26 $ за м²</div></div></div></div></a>,\n",
       " <a class=\"realty-preview__content-link\" data-event-action=\"click\" data-event-category=\"card\" data-event-label=\"content\" href=\"/uk/redirect/383375451\" rel=\"nofollow noopener\" target=\"_blank\"><div class=\"realty-content-layout__properties\"><div class=\"realty-content-layout__properties-row\"><div class=\"realty-content-layout__property\"><span class=\"realty-preview__info\">поверх 21 з 24</span></div><div class=\"realty-content-layout__property\"></div></div></div><div class=\"realty-content-layout__properties-row realty-content-layout__time-row\"><div class=\"realty-content-layout__property\"><span class=\"realty-preview__info realty-preview__info--time\">Оновлено<!-- -->: <span>вчора о <!-- -->22:10</span></span></div><div class=\"realty-content-layout__property\"><span class=\"realty-preview__info realty-preview__info--time\">Знайдено<!-- -->: <span>вчора о <!-- -->22:10</span></span></div></div></a>,\n",
       " <a class=\"realty-preview__content-link\" data-event-action=\"click\" data-event-category=\"card\" data-event-label=\"content\" href=\"/uk/redirect/383375453\" rel=\"nofollow noopener\" target=\"_blank\"><div class=\"realty-content-layout__properties\"><div class=\"realty-content-layout__properties-row\"><div class=\"realty-content-layout__property\"><div class=\"realty-preview__price\">10 000 грн</div></div></div><div class=\"realty-content-layout__properties-row\"><div class=\"realty-content-layout__property\"><div class=\"realty-preview__price--sqm\">204 грн за м²</div></div></div></div></a>,\n",
       " <a class=\"realty-preview__content-link\" data-event-action=\"click\" data-event-category=\"card\" data-event-label=\"content\" href=\"/uk/redirect/383375453\" rel=\"nofollow noopener\" target=\"_blank\"><div class=\"realty-content-layout__properties\"><div class=\"realty-content-layout__properties-row\"><div class=\"realty-content-layout__property\"><span class=\"realty-preview__info\">поверх 22 з 25</span></div><div class=\"realty-content-layout__property\"><span class=\"realty-preview__info\">2014</span></div></div><div class=\"realty-content-layout__properties-row\"><div class=\"realty-content-layout__property\"><span class=\"realty-preview__info\">АППС</span></div><div class=\"realty-content-layout__property\"><span class=\"realty-preview__info\">утеплена панель</span></div></div></div><div class=\"realty-content-layout__properties-row realty-content-layout__time-row\"><div class=\"realty-content-layout__property\"><span class=\"realty-preview__info realty-preview__info--time\">Оновлено<!-- -->: <span>вчора о <!-- -->22:10</span></span></div><div class=\"realty-content-layout__property\"><span class=\"realty-preview__info realty-preview__info--time\">Знайдено<!-- -->: <span>вчора о <!-- -->22:10</span></span></div></div></a>,\n",
       " <a class=\"realty-preview__content-link\" data-event-action=\"click\" data-event-category=\"card\" data-event-label=\"content\" href=\"/uk/redirect/383375446\" rel=\"nofollow noopener\" target=\"_blank\"><div class=\"realty-content-layout__properties\"><div class=\"realty-content-layout__properties-row\"><div class=\"realty-content-layout__property\"><div class=\"realty-preview__price\">15 900 грн</div></div></div><div class=\"realty-content-layout__properties-row\"><div class=\"realty-content-layout__property\"><div class=\"realty-preview__price--sqm\">215 грн за м²</div></div></div></div></a>,\n",
       " <a class=\"realty-preview__content-link\" data-event-action=\"click\" data-event-category=\"card\" data-event-label=\"content\" href=\"/uk/redirect/383375446\" rel=\"nofollow noopener\" target=\"_blank\"><div class=\"realty-content-layout__properties\"><div class=\"realty-content-layout__properties-row\"><div class=\"realty-content-layout__property\"><span class=\"realty-preview__info\">поверх 3 з 22</span></div><div class=\"realty-content-layout__property\"><span class=\"realty-preview__info\">2013</span></div></div><div class=\"realty-content-layout__properties-row\"><div class=\"realty-content-layout__property\"><span class=\"realty-preview__info\">спец. проект</span></div><div class=\"realty-content-layout__property\"><span class=\"realty-preview__info\">монолітно-каркасний</span></div></div></div><div class=\"realty-content-layout__properties-row realty-content-layout__time-row\"><div class=\"realty-content-layout__property\"><span class=\"realty-preview__info realty-preview__info--time\">Оновлено<!-- -->: <span>сьогодні о <!-- -->03:30</span></span></div><div class=\"realty-content-layout__property\"><span class=\"realty-preview__info realty-preview__info--time\">Знайдено<!-- -->: <span>вчора о <!-- -->22:10</span></span></div></div></a>,\n",
       " <a class=\"realty-preview__content-link\" data-event-action=\"click\" data-event-category=\"card\" data-event-label=\"content\" href=\"/uk/redirect/383375443\" rel=\"nofollow noopener\" target=\"_blank\"><div class=\"realty-content-layout__properties\"><div class=\"realty-content-layout__properties-row\"><div class=\"realty-content-layout__property\"><div class=\"realty-preview__price\">17 000 грн</div></div></div><div class=\"realty-content-layout__properties-row\"><div class=\"realty-content-layout__property\"><div class=\"realty-preview__price--sqm\">340 грн за м²</div></div></div></div></a>,\n",
       " <a class=\"realty-preview__content-link\" data-event-action=\"click\" data-event-category=\"card\" data-event-label=\"content\" href=\"/uk/redirect/383375443\" rel=\"nofollow noopener\" target=\"_blank\"><div class=\"realty-content-layout__properties\"><div class=\"realty-content-layout__properties-row\"><div class=\"realty-content-layout__property\"><span class=\"realty-preview__info\">поверх 11 з 32</span></div><div class=\"realty-content-layout__property\"><span class=\"realty-preview__info\">2013</span></div></div><div class=\"realty-content-layout__properties-row\"><div class=\"realty-content-layout__property\"><span class=\"realty-preview__info\">спец. проект</span></div><div class=\"realty-content-layout__property\"><span class=\"realty-preview__info\">монолітно-каркасний</span></div></div></div><div class=\"realty-content-layout__properties-row realty-content-layout__time-row\"><div class=\"realty-content-layout__property\"><span class=\"realty-preview__info realty-preview__info--time\">Оновлено<!-- -->: <span>вчора о <!-- -->22:05</span></span></div><div class=\"realty-content-layout__property\"><span class=\"realty-preview__info realty-preview__info--time\">Знайдено<!-- -->: <span>вчора о <!-- -->22:05</span></span></div></div></a>,\n",
       " <a class=\"realty-preview__content-link\" data-event-action=\"click\" data-event-category=\"card\" data-event-label=\"content\" href=\"/uk/redirect/383375440\" rel=\"nofollow noopener\" target=\"_blank\"><div class=\"realty-content-layout__properties\"><div class=\"realty-content-layout__properties-row\"><div class=\"realty-content-layout__property\"><div class=\"realty-preview__price\">12 000 грн</div></div></div><div class=\"realty-content-layout__properties-row\"><div class=\"realty-content-layout__property\"><div class=\"realty-preview__price--sqm\">267 грн за м²</div></div></div></div></a>,\n",
       " <a class=\"realty-preview__content-link\" data-event-action=\"click\" data-event-category=\"card\" data-event-label=\"content\" href=\"/uk/redirect/383375440\" rel=\"nofollow noopener\" target=\"_blank\"><div class=\"realty-content-layout__properties\"><div class=\"realty-content-layout__properties-row\"><div class=\"realty-content-layout__property\"><span class=\"realty-preview__info\">поверх 5 з 21</span></div><div class=\"realty-content-layout__property\"><span class=\"realty-preview__info\">2003</span></div></div><div class=\"realty-content-layout__properties-row\"><div class=\"realty-content-layout__property\"><span class=\"realty-preview__info\">спец. проект</span></div><div class=\"realty-content-layout__property\"><span class=\"realty-preview__info\">монолітно-каркасний</span></div></div></div><div class=\"realty-content-layout__properties-row realty-content-layout__time-row\"><div class=\"realty-content-layout__property\"><span class=\"realty-preview__info realty-preview__info--time\">Оновлено<!-- -->: <span>вчора о <!-- -->22:05</span></span></div><div class=\"realty-content-layout__property\"><span class=\"realty-preview__info realty-preview__info--time\">Знайдено<!-- -->: <span>вчора о <!-- -->22:05</span></span></div></div></a>,\n",
       " <a class=\"realty-preview__content-link\" data-event-action=\"click\" data-event-category=\"card\" data-event-label=\"content\" href=\"/uk/redirect/383375427\" rel=\"nofollow noopener\" target=\"_blank\"><div class=\"realty-content-layout__properties\"><div class=\"realty-content-layout__properties-row\"><div class=\"realty-content-layout__property\"><div class=\"realty-preview__price\">15 000 грн</div></div></div><div class=\"realty-content-layout__properties-row\"><div class=\"realty-content-layout__property\"><div class=\"realty-preview__price--sqm\">326 грн за м²</div></div></div></div></a>,\n",
       " <a class=\"realty-preview__content-link\" data-event-action=\"click\" data-event-category=\"card\" data-event-label=\"content\" href=\"/uk/redirect/383375427\" rel=\"nofollow noopener\" target=\"_blank\"><div class=\"realty-content-layout__properties\"><div class=\"realty-content-layout__properties-row\"><div class=\"realty-content-layout__property\"><span class=\"realty-preview__info\">поверх 22 з 25</span></div><div class=\"realty-content-layout__property\"><span class=\"realty-preview__info\">2015</span></div></div><div class=\"realty-content-layout__properties-row\"><div class=\"realty-content-layout__property\"><span class=\"realty-preview__info\">спец. проект</span></div><div class=\"realty-content-layout__property\"><span class=\"realty-preview__info\">монолітно-каркасний</span></div></div></div><div class=\"realty-content-layout__properties-row realty-content-layout__time-row\"><div class=\"realty-content-layout__property\"><span class=\"realty-preview__info realty-preview__info--time\">Оновлено<!-- -->: <span>вчора о <!-- -->22:05</span></span></div><div class=\"realty-content-layout__property\"><span class=\"realty-preview__info realty-preview__info--time\">Знайдено<!-- -->: <span>вчора о <!-- -->22:05</span></span></div></div></a>,\n",
       " <a class=\"realty-preview__content-link\" data-event-action=\"click\" data-event-category=\"card\" data-event-label=\"content\" href=\"/uk/redirect/383375430\" rel=\"nofollow noopener\" target=\"_blank\"><div class=\"realty-content-layout__properties\"><div class=\"realty-content-layout__properties-row\"><div class=\"realty-content-layout__property\"><div class=\"realty-preview__price\">15 000 $</div></div></div><div class=\"realty-content-layout__properties-row\"><div class=\"realty-content-layout__property\"><div class=\"realty-preview__price--sqm\">319 $ за м²</div></div></div></div></a>,\n",
       " <a class=\"realty-preview__content-link\" data-event-action=\"click\" data-event-category=\"card\" data-event-label=\"content\" href=\"/uk/redirect/383375430\" rel=\"nofollow noopener\" target=\"_blank\"><div class=\"realty-content-layout__properties\"><div class=\"realty-content-layout__properties-row\"><div class=\"realty-content-layout__property\"><span class=\"realty-preview__info\">поверх 17 з 25</span></div><div class=\"realty-content-layout__property\"><span class=\"realty-preview__info\">2018</span></div></div><div class=\"realty-content-layout__properties-row\"><div class=\"realty-content-layout__property\"><span class=\"realty-preview__info\">спец. проект</span></div><div class=\"realty-content-layout__property\"><span class=\"realty-preview__info\">монолітно-каркасний</span></div></div></div><div class=\"realty-content-layout__properties-row realty-content-layout__time-row\"><div class=\"realty-content-layout__property\"><span class=\"realty-preview__info realty-preview__info--time\">Оновлено<!-- -->: <span>вчора о <!-- -->22:05</span></span></div><div class=\"realty-content-layout__property\"><span class=\"realty-preview__info realty-preview__info--time\">Знайдено<!-- -->: <span>вчора о <!-- -->22:05</span></span></div></div></a>,\n",
       " <a class=\"realty-preview__content-link\" data-event-action=\"click\" data-event-category=\"card\" data-event-label=\"content\" href=\"/uk/redirect/383375321\" rel=\"nofollow noopener\" target=\"_blank\"><div class=\"realty-content-layout__properties\"><div class=\"realty-content-layout__properties-row\"><div class=\"realty-content-layout__property\"><div class=\"realty-preview__price\">10 000 грн</div></div></div><div class=\"realty-content-layout__properties-row\"><div class=\"realty-content-layout__property\"><div class=\"realty-preview__price--sqm\">400 грн за м²</div></div></div></div></a>,\n",
       " <a class=\"realty-preview__content-link\" data-event-action=\"click\" data-event-category=\"card\" data-event-label=\"content\" href=\"/uk/redirect/383375321\" rel=\"nofollow noopener\" target=\"_blank\"><div class=\"realty-content-layout__properties\"><div class=\"realty-content-layout__properties-row\"><div class=\"realty-content-layout__property\"><span class=\"realty-preview__info\">поверх 25 з 26</span></div><div class=\"realty-content-layout__property\"><span class=\"realty-preview__info\">2016</span></div></div><div class=\"realty-content-layout__properties-row\"><div class=\"realty-content-layout__property\"><span class=\"realty-preview__info\">спец. проект</span></div><div class=\"realty-content-layout__property\"><span class=\"realty-preview__info\">монолітно-каркасний</span></div></div></div><div class=\"realty-content-layout__properties-row realty-content-layout__time-row\"><div class=\"realty-content-layout__property\"><span class=\"realty-preview__info realty-preview__info--time\">Оновлено<!-- -->: <span>вчора о <!-- -->22:05</span></span></div><div class=\"realty-content-layout__property\"><span class=\"realty-preview__info realty-preview__info--time\">Знайдено<!-- -->: <span>вчора о <!-- -->22:05</span></span></div></div></a>,\n",
       " <a class=\"realty-preview__content-link\" data-event-action=\"click\" data-event-category=\"card\" data-event-label=\"content\" href=\"/uk/redirect/383375325\" rel=\"nofollow noopener\" target=\"_blank\"><div class=\"realty-content-layout__properties\"><div class=\"realty-content-layout__properties-row\"><div class=\"realty-content-layout__property\"><div class=\"realty-preview__price\">10 000 грн</div></div></div><div class=\"realty-content-layout__properties-row\"><div class=\"realty-content-layout__property\"><div class=\"realty-preview__price--sqm\">435 грн за м²</div></div></div></div></a>,\n",
       " <a class=\"realty-preview__content-link\" data-event-action=\"click\" data-event-category=\"card\" data-event-label=\"content\" href=\"/uk/redirect/383375325\" rel=\"nofollow noopener\" target=\"_blank\"><div class=\"realty-content-layout__properties\"><div class=\"realty-content-layout__properties-row\"><div class=\"realty-content-layout__property\"><span class=\"realty-preview__info\">поверх 26 з 26</span></div><div class=\"realty-content-layout__property\"><span class=\"realty-preview__info\">2016</span></div></div><div class=\"realty-content-layout__properties-row\"><div class=\"realty-content-layout__property\"><span class=\"realty-preview__info\">спец. проект</span></div><div class=\"realty-content-layout__property\"><span class=\"realty-preview__info\">монолітно-каркасний</span></div></div></div><div class=\"realty-content-layout__properties-row realty-content-layout__time-row\"><div class=\"realty-content-layout__property\"><span class=\"realty-preview__info realty-preview__info--time\">Оновлено<!-- -->: <span>вчора о <!-- -->22:05</span></span></div><div class=\"realty-content-layout__property\"><span class=\"realty-preview__info realty-preview__info--time\">Знайдено<!-- -->: <span>вчора о <!-- -->22:05</span></span></div></div></a>,\n",
       " <a class=\"realty-preview__content-link\" data-event-action=\"click\" data-event-category=\"card\" data-event-label=\"content\" href=\"/uk/redirect/383375323\" rel=\"nofollow noopener\" target=\"_blank\"><div class=\"realty-content-layout__properties\"><div class=\"realty-content-layout__properties-row\"><div class=\"realty-content-layout__property\"><div class=\"realty-preview__price\">10 000 грн</div></div></div><div class=\"realty-content-layout__properties-row\"><div class=\"realty-content-layout__property\"><div class=\"realty-preview__price--sqm\">400 грн за м²</div></div></div></div></a>,\n",
       " <a class=\"realty-preview__content-link\" data-event-action=\"click\" data-event-category=\"card\" data-event-label=\"content\" href=\"/uk/redirect/383375323\" rel=\"nofollow noopener\" target=\"_blank\"><div class=\"realty-content-layout__properties\"><div class=\"realty-content-layout__properties-row\"><div class=\"realty-content-layout__property\"><span class=\"realty-preview__info\">поверх 25 з 26</span></div><div class=\"realty-content-layout__property\"><span class=\"realty-preview__info\">2016</span></div></div><div class=\"realty-content-layout__properties-row\"><div class=\"realty-content-layout__property\"><span class=\"realty-preview__info\">спец. проект</span></div><div class=\"realty-content-layout__property\"><span class=\"realty-preview__info\">монолітно-каркасний</span></div></div></div><div class=\"realty-content-layout__properties-row realty-content-layout__time-row\"><div class=\"realty-content-layout__property\"><span class=\"realty-preview__info realty-preview__info--time\">Оновлено<!-- -->: <span>вчора о <!-- -->22:05</span></span></div><div class=\"realty-content-layout__property\"><span class=\"realty-preview__info realty-preview__info--time\">Знайдено<!-- -->: <span>вчора о <!-- -->22:05</span></span></div></div></a>,\n",
       " <a class=\"realty-preview__content-link\" data-event-action=\"click\" data-event-category=\"card\" data-event-label=\"content\" href=\"/uk/redirect/383375336\" rel=\"nofollow noopener\" target=\"_blank\"><div class=\"realty-content-layout__properties\"><div class=\"realty-content-layout__properties-row\"><div class=\"realty-content-layout__property\"><div class=\"realty-preview__price\">12 000 грн</div></div></div><div class=\"realty-content-layout__properties-row\"><div class=\"realty-content-layout__property\"><div class=\"realty-preview__price--sqm\">400 грн за м²</div></div></div></div></a>,\n",
       " <a class=\"realty-preview__content-link\" data-event-action=\"click\" data-event-category=\"card\" data-event-label=\"content\" href=\"/uk/redirect/383375336\" rel=\"nofollow noopener\" target=\"_blank\"><div class=\"realty-content-layout__properties\"><div class=\"realty-content-layout__properties-row\"><div class=\"realty-content-layout__property\"><span class=\"realty-preview__info\">поверх 17 з 25</span></div><div class=\"realty-content-layout__property\"><span class=\"realty-preview__info\">2020</span></div></div><div class=\"realty-content-layout__properties-row\"><div class=\"realty-content-layout__property\"><span class=\"realty-preview__info\">спец. проект</span></div><div class=\"realty-content-layout__property\"><span class=\"realty-preview__info\">монолітно-каркасний</span></div></div></div><div class=\"realty-content-layout__properties-row realty-content-layout__time-row\"><div class=\"realty-content-layout__property\"><span class=\"realty-preview__info realty-preview__info--time\">Оновлено<!-- -->: <span>вчора о <!-- -->22:05</span></span></div><div class=\"realty-content-layout__property\"><span class=\"realty-preview__info realty-preview__info--time\">Знайдено<!-- -->: <span>вчора о <!-- -->22:05</span></span></div></div></a>,\n",
       " <a class=\"realty-preview__content-link\" data-event-action=\"click\" data-event-category=\"card\" data-event-label=\"content\" href=\"/uk/redirect/383375322\" rel=\"nofollow noopener\" target=\"_blank\"><div class=\"realty-content-layout__properties\"><div class=\"realty-content-layout__properties-row\"><div class=\"realty-content-layout__property\"><div class=\"realty-preview__price\">10 000 грн</div></div></div><div class=\"realty-content-layout__properties-row\"><div class=\"realty-content-layout__property\"><div class=\"realty-preview__price--sqm\">400 грн за м²</div></div></div></div></a>,\n",
       " <a class=\"realty-preview__content-link\" data-event-action=\"click\" data-event-category=\"card\" data-event-label=\"content\" href=\"/uk/redirect/383375322\" rel=\"nofollow noopener\" target=\"_blank\"><div class=\"realty-content-layout__properties\"><div class=\"realty-content-layout__properties-row\"><div class=\"realty-content-layout__property\"><span class=\"realty-preview__info\">поверх 26 з 26</span></div><div class=\"realty-content-layout__property\"><span class=\"realty-preview__info\">2016</span></div></div><div class=\"realty-content-layout__properties-row\"><div class=\"realty-content-layout__property\"><span class=\"realty-preview__info\">спец. проект</span></div><div class=\"realty-content-layout__property\"><span class=\"realty-preview__info\">монолітно-каркасний</span></div></div></div><div class=\"realty-content-layout__properties-row realty-content-layout__time-row\"><div class=\"realty-content-layout__property\"><span class=\"realty-preview__info realty-preview__info--time\">Оновлено<!-- -->: <span>вчора о <!-- -->22:05</span></span></div><div class=\"realty-content-layout__property\"><span class=\"realty-preview__info realty-preview__info--time\">Знайдено<!-- -->: <span>вчора о <!-- -->22:05</span></span></div></div></a>,\n",
       " <a class=\"realty-preview__content-link\" data-event-action=\"click\" data-event-category=\"card\" data-event-label=\"content\" href=\"/uk/redirect/383375324\" rel=\"nofollow noopener\" target=\"_blank\"><div class=\"realty-content-layout__properties\"><div class=\"realty-content-layout__properties-row\"><div class=\"realty-content-layout__property\"><div class=\"realty-preview__price\">10 000 грн</div></div></div><div class=\"realty-content-layout__properties-row\"><div class=\"realty-content-layout__property\"><div class=\"realty-preview__price--sqm\">400 грн за м²</div></div></div></div></a>,\n",
       " <a class=\"realty-preview__content-link\" data-event-action=\"click\" data-event-category=\"card\" data-event-label=\"content\" href=\"/uk/redirect/383375324\" rel=\"nofollow noopener\" target=\"_blank\"><div class=\"realty-content-layout__properties\"><div class=\"realty-content-layout__properties-row\"><div class=\"realty-content-layout__property\"><span class=\"realty-preview__info\">поверх 26 з 26</span></div><div class=\"realty-content-layout__property\"><span class=\"realty-preview__info\">2016</span></div></div><div class=\"realty-content-layout__properties-row\"><div class=\"realty-content-layout__property\"><span class=\"realty-preview__info\">спец. проект</span></div><div class=\"realty-content-layout__property\"><span class=\"realty-preview__info\">монолітно-каркасний</span></div></div></div><div class=\"realty-content-layout__properties-row realty-content-layout__time-row\"><div class=\"realty-content-layout__property\"><span class=\"realty-preview__info realty-preview__info--time\">Оновлено<!-- -->: <span>вчора о <!-- -->22:05</span></span></div><div class=\"realty-content-layout__property\"><span class=\"realty-preview__info realty-preview__info--time\">Знайдено<!-- -->: <span>вчора о <!-- -->22:05</span></span></div></div></a>,\n",
       " <a class=\"realty-preview__content-link\" data-event-action=\"click\" data-event-category=\"card\" data-event-label=\"content\" href=\"/uk/redirect/383375273\" rel=\"nofollow noopener\" target=\"_blank\"><div class=\"realty-content-layout__properties\"><div class=\"realty-content-layout__properties-row\"><div class=\"realty-content-layout__property\"><div class=\"realty-preview__price\">9 900 грн</div></div></div><div class=\"realty-content-layout__properties-row\"><div class=\"realty-content-layout__property\"><div class=\"realty-preview__price--sqm\">309 грн за м²</div></div></div></div></a>,\n",
       " <a class=\"realty-preview__content-link\" data-event-action=\"click\" data-event-category=\"card\" data-event-label=\"content\" href=\"/uk/redirect/383375273\" rel=\"nofollow noopener\" target=\"_blank\"><div class=\"realty-content-layout__properties\"><div class=\"realty-content-layout__properties-row\"><div class=\"realty-content-layout__property\"><span class=\"realty-preview__info\">поверх 4 з 9</span></div><div class=\"realty-content-layout__property\"><span class=\"realty-preview__info\">1964</span></div></div><div class=\"realty-content-layout__properties-row\"><div class=\"realty-content-layout__property\"></div><div class=\"realty-content-layout__property\"><span class=\"realty-preview__info\">цегляний будинок</span></div></div></div><div class=\"realty-content-layout__properties-row realty-content-layout__time-row\"><div class=\"realty-content-layout__property\"><span class=\"realty-preview__info realty-preview__info--time\">Оновлено<!-- -->: <span>сьогодні о <!-- -->03:30</span></span></div><div class=\"realty-content-layout__property\"><span class=\"realty-preview__info realty-preview__info--time\">Знайдено<!-- -->: <span>вчора о <!-- -->22:00</span></span></div></div></a>,\n",
       " <a class=\"realty-preview__content-link\" data-event-action=\"click\" data-event-category=\"card\" data-event-label=\"content\" href=\"/uk/redirect/383375248\" rel=\"nofollow noopener\" target=\"_blank\"><div class=\"realty-content-layout__properties\"><div class=\"realty-content-layout__properties-row\"><div class=\"realty-content-layout__property\"><div class=\"realty-preview__price\">2 500 $</div></div></div><div class=\"realty-content-layout__properties-row\"><div class=\"realty-content-layout__property\"><div class=\"realty-preview__price--sqm\">27 $ за м²</div></div></div></div></a>,\n",
       " <a class=\"realty-preview__content-link\" data-event-action=\"click\" data-event-category=\"card\" data-event-label=\"content\" href=\"/uk/redirect/383375248\" rel=\"nofollow noopener\" target=\"_blank\"><div class=\"realty-content-layout__properties\"><div class=\"realty-content-layout__properties-row\"><div class=\"realty-content-layout__property\"><span class=\"realty-preview__info\">поверх 3 з 4</span></div><div class=\"realty-content-layout__property\"><span class=\"realty-preview__info\">1918</span></div></div><div class=\"realty-content-layout__properties-row\"><div class=\"realty-content-layout__property\"><span class=\"realty-preview__info\">дореволюційний</span></div><div class=\"realty-content-layout__property\"><span class=\"realty-preview__info\">цегляний будинок</span></div></div></div><div class=\"realty-content-layout__properties-row realty-content-layout__time-row\"><div class=\"realty-content-layout__property\"><span class=\"realty-preview__info realty-preview__info--time\">Оновлено<!-- -->: <span>вчора о <!-- -->21:45</span></span></div><div class=\"realty-content-layout__property\"><span class=\"realty-preview__info realty-preview__info--time\">Знайдено<!-- -->: <span>вчора о <!-- -->21:45</span></span></div></div></a>]"
      ]
     },
     "execution_count": 175,
     "metadata": {},
     "output_type": "execute_result"
    }
   ],
   "source": [
    "soup = BeautifulSoup(r.text, 'html')\n",
    "soup.select('.realty-preview__content-link')"
   ]
  },
  {
   "cell_type": "code",
   "execution_count": 179,
   "metadata": {},
   "outputs": [
    {
     "data": {
      "text/plain": [
       "[]"
      ]
     },
     "execution_count": 179,
     "metadata": {},
     "output_type": "execute_result"
    }
   ],
   "source": [
    "soup.select('div[style=\"display: flex\"]')"
   ]
  },
  {
   "cell_type": "code",
   "execution_count": 95,
   "metadata": {
    "scrolled": true
   },
   "outputs": [
    {
     "data": {
      "text/plain": [
       "['20\\xa0000 грн',\n",
       " '11\\xa0000 грн',\n",
       " '11\\xa0000 грн',\n",
       " '10\\xa0000 грн',\n",
       " '12\\xa0000 грн',\n",
       " '9\\xa0000 грн',\n",
       " '5\\xa0500 грн',\n",
       " '6\\xa0000 грн',\n",
       " '6\\xa0000 грн',\n",
       " '9\\xa0000 грн',\n",
       " '5\\xa0200 грн',\n",
       " '5\\xa0000 грн',\n",
       " '5\\xa0400 грн',\n",
       " '5\\xa0000 грн',\n",
       " '5\\xa0500 грн',\n",
       " '5\\xa0000 грн',\n",
       " '5\\xa0500 грн',\n",
       " '5\\xa0600 грн',\n",
       " '5\\xa0100 грн',\n",
       " '5\\xa0200 грн',\n",
       " '9\\xa0000 грн',\n",
       " '10\\xa0500 грн',\n",
       " '15\\xa0000 грн',\n",
       " '1\\xa0800 $']"
      ]
     },
     "execution_count": 95,
     "metadata": {},
     "output_type": "execute_result"
    }
   ],
   "source": [
    "price = []\n",
    "for el in soup.find_all('div',class_ = 'realty-preview__price'):\n",
    "    price.append(el.text)\n",
    "price"
   ]
  },
  {
   "cell_type": "code",
   "execution_count": 96,
   "metadata": {},
   "outputs": [
    {
     "data": {
      "text/plain": [
       "24"
      ]
     },
     "execution_count": 96,
     "metadata": {},
     "output_type": "execute_result"
    }
   ],
   "source": [
    "len(price)"
   ]
  },
  {
   "cell_type": "code",
   "execution_count": 56,
   "metadata": {
    "scrolled": true
   },
   "outputs": [],
   "source": [
    "address = []\n",
    "for el in soup.find_all('a',class_ = 'realty-preview__info'):\n",
    "       address.append(el.text+',Київ')"
   ]
  },
  {
   "cell_type": "code",
   "execution_count": 57,
   "metadata": {},
   "outputs": [
    {
     "data": {
      "text/plain": [
       "[]"
      ]
     },
     "execution_count": 57,
     "metadata": {},
     "output_type": "execute_result"
    }
   ],
   "source": [
    "address"
   ]
  },
  {
   "cell_type": "code",
   "execution_count": 180,
   "metadata": {
    "scrolled": true
   },
   "outputs": [
    {
     "name": "stdout",
     "output_type": "stream",
     "text": [
      "поверх 3 з 9\n",
      "поверх 19 з 25\n",
      "поверх 5 з 9\n",
      "поверх 8 з 10\n",
      "поверх 4 з 15\n",
      "поверх 22 з 25\n",
      "поверх 12 з 26\n",
      "поверх 3 з 9\n",
      "поверх 20 з 24\n",
      "поверх 21 з 24\n",
      "поверх 22 з 25\n",
      "поверх 3 з 22\n",
      "поверх 11 з 32\n",
      "поверх 5 з 21\n",
      "поверх 22 з 25\n",
      "поверх 17 з 25\n",
      "поверх 25 з 26\n",
      "поверх 26 з 26\n",
      "поверх 25 з 26\n",
      "поверх 17 з 25\n",
      "поверх 26 з 26\n",
      "поверх 26 з 26\n",
      "поверх 4 з 9\n",
      "поверх 3 з 4\n"
     ]
    }
   ],
   "source": [
    "substr = 'поверх'\n",
    "for el in soup.find_all('span',class_ = 'realty-preview__info'):\n",
    "    if substr in el.text:\n",
    "        print(el.text)"
   ]
  },
  {
   "cell_type": "code",
   "execution_count": null,
   "metadata": {},
   "outputs": [],
   "source": []
  }
 ],
 "metadata": {
  "kernelspec": {
   "display_name": "Python 3",
   "language": "python",
   "name": "python3"
  },
  "language_info": {
   "codemirror_mode": {
    "name": "ipython",
    "version": 3
   },
   "file_extension": ".py",
   "mimetype": "text/x-python",
   "name": "python",
   "nbconvert_exporter": "python",
   "pygments_lexer": "ipython3",
   "version": "3.8.5"
  }
 },
 "nbformat": 4,
 "nbformat_minor": 4
}
