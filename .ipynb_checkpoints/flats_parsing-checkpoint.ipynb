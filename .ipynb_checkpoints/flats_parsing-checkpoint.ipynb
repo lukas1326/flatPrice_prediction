{
 "cells": [
  {
   "cell_type": "code",
   "execution_count": 1,
   "metadata": {},
   "outputs": [],
   "source": [
    "import requests\n",
    "from bs4 import BeautifulSoup\n",
    "import pandas as pd\n",
    "import pickle\n",
    "#SITE = 'https://dom.ria.com/uk/prodazha-kvartir/kiev/?commercial=all&page='\n"
   ]
  },
  {
   "cell_type": "code",
   "execution_count": null,
   "metadata": {},
   "outputs": [],
   "source": [
    "# Параметри: \n",
    "#     - район\n",
    "#     - площа (кв м)\n",
    "#     - кількість кімнат\n",
    "#     - поверховість\n",
    "#     - близькість до метро (1-дуже близько, 2 - до 20 хв ходьби, 3 - далеко)\n",
    "#     - ЖК (так/ні)\n",
    "\n",
    "# Ваша модель повинна на всіх приймати ці параметри, які я описав\n",
    "# Результат повинна буде ціна оренди\n",
    "\n",
    "# Де взяти дані для навчання моделі - вирішуйте в групі \n",
    "\n",
    "# Можете більше районів опрацювати, головне, щоб були ті, що  я вказав"
   ]
  },
  {
   "cell_type": "code",
   "execution_count": 2,
   "metadata": {},
   "outputs": [],
   "source": [
    "SITE = 'https://flatfy.ua/uk/%D0%BE%D1%80%D0%B5%D0%BD%D0%B4%D0%B0-%D0%BA%D0%B2%D0%B0%D1%80%D1%82%D0%B8%D1%80-%D0%BA%D0%B8%D1%97%D0%B2?page=1'"
   ]
  },
  {
   "cell_type": "code",
   "execution_count": 3,
   "metadata": {},
   "outputs": [],
   "source": [
    "HEADERS = {\n",
    "            'User-Agent': 'Mozilla/5.0 (Windows NT 6.1; WOW64; rv:49.0) Gecko/20100101 Firefox/49.0',\n",
    "            'Accept': 'text/html,application/xhtml+xml,application/xml;q=0.9,*/*;q=0.8',\n",
    "            'Accept-Language': 'en-US,en;q=0.5',\n",
    "            'Accept-Encoding': 'gzip, deflate',\n",
    "            'DNT': '1',\n",
    "            'Connection': 'keep-alive',\n",
    "            'Upgrade-Insecure-Requests': '1'\n",
    "        }\n"
   ]
  },
  {
   "cell_type": "code",
   "execution_count": 1,
   "metadata": {},
   "outputs": [],
   "source": [
    "### Район"
   ]
  },
  {
   "cell_type": "code",
   "execution_count": 4,
   "metadata": {},
   "outputs": [],
   "source": [
    "r = requests.get(SITE, headers = HEADERS)\n"
   ]
  },
  {
   "cell_type": "code",
   "execution_count": 5,
   "metadata": {},
   "outputs": [],
   "source": [
    "soup = BeautifulSoup(r.text, 'lxml')"
   ]
  },
  {
   "cell_type": "code",
   "execution_count": null,
   "metadata": {},
   "outputs": [],
   "source": [
    "# address: a realty-preview__title-link\n",
    "# floor : span realty-preview__info\n",
    "# a realty-preview__sub-title"
   ]
  },
  {
   "cell_type": "code",
   "execution_count": 6,
   "metadata": {},
   "outputs": [],
   "source": [
    "# dictricts collected all info in list\n",
    "district = []\n",
    "for el in soup.find_all('div',class_ = 'realty-content-layout__sub-title-row'):\n",
    "       district.append(el)"
   ]
  },
  {
   "cell_type": "code",
   "execution_count": 7,
   "metadata": {},
   "outputs": [],
   "source": [
    "districs = []\n",
    "for distr in range(len(district)):    \n",
    "    azh = []\n",
    "    for i in district[distr]:\n",
    "        azh.append(i.text)\n",
    "    districs.append((azh[-2]))"
   ]
  },
  {
   "cell_type": "code",
   "execution_count": 8,
   "metadata": {},
   "outputs": [
    {
     "data": {
      "text/plain": [
       "24"
      ]
     },
     "execution_count": 8,
     "metadata": {},
     "output_type": "execute_result"
    }
   ],
   "source": [
    "len(districs)"
   ]
  },
  {
   "cell_type": "code",
   "execution_count": 9,
   "metadata": {},
   "outputs": [
    {
     "data": {
      "text/plain": [
       "['Деснянський',\n",
       " 'Дніпровський',\n",
       " 'Оболонський',\n",
       " 'Голосіївський',\n",
       " 'Дарницький',\n",
       " 'Дніпровський',\n",
       " \"Солом'янський\",\n",
       " 'Оболонський',\n",
       " 'Подільський',\n",
       " \"Солом'янський\",\n",
       " 'Дніпровський',\n",
       " 'Деснянський',\n",
       " 'Шевченківський',\n",
       " 'Подільський',\n",
       " 'Дніпровський',\n",
       " 'Голосіївський',\n",
       " 'Дарницький',\n",
       " 'Дарницький',\n",
       " 'Голосіївський',\n",
       " 'Святошинський',\n",
       " 'Дніпровський',\n",
       " 'Святошинський',\n",
       " 'Святошинський',\n",
       " 'Голосіївський']"
      ]
     },
     "execution_count": 9,
     "metadata": {},
     "output_type": "execute_result"
    }
   ],
   "source": [
    "districs"
   ]
  },
  {
   "cell_type": "code",
   "execution_count": null,
   "metadata": {},
   "outputs": [],
   "source": [
    "# replacements = {\n",
    "#     'Нижній Печерськ': 'Печерськ',\n",
    "#     'Позняки': 'Східні Позняки',\n",
    "#     3: 30,\n",
    "# }\n",
    "\n",
    "# a = [replacements.get(x, x) for x in a]"
   ]
  },
  {
   "cell_type": "code",
   "execution_count": 39,
   "metadata": {
    "scrolled": true
   },
   "outputs": [
    {
     "data": {
      "text/html": [
       "<div>\n",
       "<style scoped>\n",
       "    .dataframe tbody tr th:only-of-type {\n",
       "        vertical-align: middle;\n",
       "    }\n",
       "\n",
       "    .dataframe tbody tr th {\n",
       "        vertical-align: top;\n",
       "    }\n",
       "\n",
       "    .dataframe thead th {\n",
       "        text-align: right;\n",
       "    }\n",
       "</style>\n",
       "<table border=\"1\" class=\"dataframe\">\n",
       "  <thead>\n",
       "    <tr style=\"text-align: right;\">\n",
       "      <th></th>\n",
       "      <th>total</th>\n",
       "      <th>transport</th>\n",
       "      <th>infrastructure</th>\n",
       "      <th>rest</th>\n",
       "      <th>security</th>\n",
       "      <th>eko</th>\n",
       "    </tr>\n",
       "  </thead>\n",
       "  <tbody>\n",
       "    <tr>\n",
       "      <th>Голосіїв</th>\n",
       "      <td>10.0</td>\n",
       "      <td>10.0</td>\n",
       "      <td>10.0</td>\n",
       "      <td>10.0</td>\n",
       "      <td>10.0</td>\n",
       "      <td>10.0</td>\n",
       "    </tr>\n",
       "    <tr>\n",
       "      <th>Оболонь</th>\n",
       "      <td>9.7</td>\n",
       "      <td>9.7</td>\n",
       "      <td>9.9</td>\n",
       "      <td>9.8</td>\n",
       "      <td>9.7</td>\n",
       "      <td>9.6</td>\n",
       "    </tr>\n",
       "    <tr>\n",
       "      <th>Мишоловка</th>\n",
       "      <td>9.6</td>\n",
       "      <td>8.0</td>\n",
       "      <td>10.0</td>\n",
       "      <td>10.0</td>\n",
       "      <td>10.0</td>\n",
       "      <td>10.0</td>\n",
       "    </tr>\n",
       "    <tr>\n",
       "      <th>Теремки-2</th>\n",
       "      <td>9.0</td>\n",
       "      <td>9.0</td>\n",
       "      <td>9.0</td>\n",
       "      <td>9.0</td>\n",
       "      <td>9.0</td>\n",
       "      <td>9.0</td>\n",
       "    </tr>\n",
       "    <tr>\n",
       "      <th>Китаїв</th>\n",
       "      <td>8.7</td>\n",
       "      <td>8.8</td>\n",
       "      <td>6.0</td>\n",
       "      <td>9.3</td>\n",
       "      <td>9.5</td>\n",
       "      <td>10.0</td>\n",
       "    </tr>\n",
       "    <tr>\n",
       "      <th>...</th>\n",
       "      <td>...</td>\n",
       "      <td>...</td>\n",
       "      <td>...</td>\n",
       "      <td>...</td>\n",
       "      <td>...</td>\n",
       "      <td>...</td>\n",
       "    </tr>\n",
       "    <tr>\n",
       "      <th>Монтажник</th>\n",
       "      <td>1.0</td>\n",
       "      <td>1.0</td>\n",
       "      <td>1.0</td>\n",
       "      <td>1.0</td>\n",
       "      <td>1.0</td>\n",
       "      <td>1.0</td>\n",
       "    </tr>\n",
       "    <tr>\n",
       "      <th>Жовтневе</th>\n",
       "      <td>1.0</td>\n",
       "      <td>1.0</td>\n",
       "      <td>1.0</td>\n",
       "      <td>1.0</td>\n",
       "      <td>1.0</td>\n",
       "      <td>1.0</td>\n",
       "    </tr>\n",
       "    <tr>\n",
       "      <th>Петрівка</th>\n",
       "      <td>1.0</td>\n",
       "      <td>1.0</td>\n",
       "      <td>1.0</td>\n",
       "      <td>1.0</td>\n",
       "      <td>1.0</td>\n",
       "      <td>1.0</td>\n",
       "    </tr>\n",
       "    <tr>\n",
       "      <th>Перемога</th>\n",
       "      <td>1.0</td>\n",
       "      <td>1.0</td>\n",
       "      <td>1.0</td>\n",
       "      <td>1.0</td>\n",
       "      <td>1.0</td>\n",
       "      <td>1.0</td>\n",
       "    </tr>\n",
       "    <tr>\n",
       "      <th>Кудрявець</th>\n",
       "      <td>1.0</td>\n",
       "      <td>1.0</td>\n",
       "      <td>1.0</td>\n",
       "      <td>1.0</td>\n",
       "      <td>1.0</td>\n",
       "      <td>1.0</td>\n",
       "    </tr>\n",
       "  </tbody>\n",
       "</table>\n",
       "<p>99 rows × 6 columns</p>\n",
       "</div>"
      ],
      "text/plain": [
       "          total transport infrastructure  rest security   eko\n",
       "Голосіїв   10.0      10.0           10.0  10.0     10.0  10.0\n",
       "Оболонь     9.7       9.7            9.9   9.8      9.7   9.6\n",
       "Мишоловка   9.6       8.0           10.0  10.0     10.0  10.0\n",
       "Теремки-2   9.0       9.0            9.0   9.0      9.0   9.0\n",
       "Китаїв      8.7       8.8            6.0   9.3      9.5  10.0\n",
       "...         ...       ...            ...   ...      ...   ...\n",
       "Монтажник   1.0       1.0            1.0   1.0      1.0   1.0\n",
       "Жовтневе    1.0       1.0            1.0   1.0      1.0   1.0\n",
       "Петрівка    1.0       1.0            1.0   1.0      1.0   1.0\n",
       "Перемога    1.0       1.0            1.0   1.0      1.0   1.0\n",
       "Кудрявець   1.0       1.0            1.0   1.0      1.0   1.0\n",
       "\n",
       "[99 rows x 6 columns]"
      ]
     },
     "execution_count": 39,
     "metadata": {},
     "output_type": "execute_result"
    }
   ],
   "source": [
    "with open('districts.pickle', 'rb') as f:\n",
    "    defined_distr = pickle.load(f)       #load - загружає структуру із файлу\n",
    "    \n",
    "defined_distr"
   ]
  },
  {
   "cell_type": "code",
   "execution_count": 59,
   "metadata": {},
   "outputs": [
    {
     "data": {
      "text/html": [
       "<div>\n",
       "<style scoped>\n",
       "    .dataframe tbody tr th:only-of-type {\n",
       "        vertical-align: middle;\n",
       "    }\n",
       "\n",
       "    .dataframe tbody tr th {\n",
       "        vertical-align: top;\n",
       "    }\n",
       "\n",
       "    .dataframe thead th {\n",
       "        text-align: right;\n",
       "    }\n",
       "</style>\n",
       "<table border=\"1\" class=\"dataframe\">\n",
       "  <thead>\n",
       "    <tr style=\"text-align: right;\">\n",
       "      <th></th>\n",
       "      <th>Rayon</th>\n",
       "      <th>microRayon</th>\n",
       "    </tr>\n",
       "  </thead>\n",
       "  <tbody>\n",
       "    <tr>\n",
       "      <th>0</th>\n",
       "      <td>Голосіївський</td>\n",
       "      <td>Голосіїв, Китаїв, Мишоловка, Саперна слобідка,...</td>\n",
       "    </tr>\n",
       "    <tr>\n",
       "      <th>1</th>\n",
       "      <td>Дарницький</td>\n",
       "      <td>Нова Дарниця, Харківський масив, Східні Позняк...</td>\n",
       "    </tr>\n",
       "    <tr>\n",
       "      <th>2</th>\n",
       "      <td>Деснянський</td>\n",
       "      <td>Вигурівщина-Троєщина, Лісовий масив, Троєщина,...</td>\n",
       "    </tr>\n",
       "    <tr>\n",
       "      <th>3</th>\n",
       "      <td>Дніпровський</td>\n",
       "      <td>Соцмісто, Стара Дарниця, Русанівка, Березняки,...</td>\n",
       "    </tr>\n",
       "    <tr>\n",
       "      <th>4</th>\n",
       "      <td>Оболонський</td>\n",
       "      <td>Оболонь, Вишгородський масив, Мінський масив, ...</td>\n",
       "    </tr>\n",
       "    <tr>\n",
       "      <th>5</th>\n",
       "      <td>Печерський</td>\n",
       "      <td>Печерськ, Липки, Звіринець, Теличка, Чорна гор...</td>\n",
       "    </tr>\n",
       "    <tr>\n",
       "      <th>6</th>\n",
       "      <td>Подільський</td>\n",
       "      <td>Поділ, Куренівка, Пріорка, Мостицький масив, В...</td>\n",
       "    </tr>\n",
       "    <tr>\n",
       "      <th>7</th>\n",
       "      <td>Святошинський</td>\n",
       "      <td>Микільська Борщагівка, Південна Борщагівка, Бр...</td>\n",
       "    </tr>\n",
       "    <tr>\n",
       "      <th>8</th>\n",
       "      <td>Солом'янський</td>\n",
       "      <td>Солом'янка, Батиєва гора, Залізничний масив, П...</td>\n",
       "    </tr>\n",
       "    <tr>\n",
       "      <th>9</th>\n",
       "      <td>Шевченківський</td>\n",
       "      <td>Лук'янівка, Кудрявець, Татарка, Сирець, Волейк...</td>\n",
       "    </tr>\n",
       "  </tbody>\n",
       "</table>\n",
       "</div>"
      ],
      "text/plain": [
       "            Rayon                                         microRayon\n",
       "0   Голосіївський  Голосіїв, Китаїв, Мишоловка, Саперна слобідка,...\n",
       "1      Дарницький  Нова Дарниця, Харківський масив, Східні Позняк...\n",
       "2     Деснянський  Вигурівщина-Троєщина, Лісовий масив, Троєщина,...\n",
       "3    Дніпровський  Соцмісто, Стара Дарниця, Русанівка, Березняки,...\n",
       "4     Оболонський  Оболонь, Вишгородський масив, Мінський масив, ...\n",
       "5      Печерський  Печерськ, Липки, Звіринець, Теличка, Чорна гор...\n",
       "6     Подільський  Поділ, Куренівка, Пріорка, Мостицький масив, В...\n",
       "7   Святошинський  Микільська Борщагівка, Південна Борщагівка, Бр...\n",
       "8   Солом'янський  Солом'янка, Батиєва гора, Залізничний масив, П...\n",
       "9  Шевченківський  Лук'янівка, Кудрявець, Татарка, Сирець, Волейк..."
      ]
     },
     "execution_count": 59,
     "metadata": {},
     "output_type": "execute_result"
    }
   ],
   "source": [
    "pd.read_excel('mircoRayon1.xls')"
   ]
  },
  {
   "cell_type": "code",
   "execution_count": 53,
   "metadata": {},
   "outputs": [
    {
     "data": {
      "text/plain": [
       "Index(['Голосіїв', 'Оболонь', 'Мишоловка', 'Теремки-2', 'Китаїв',\n",
       "       'Караваєві Дачі', 'Теремки-1', 'Проспект Науки', 'Лук'янівка',\n",
       "       'Русанівка', 'Печерськ', 'Нижня Теличка', 'Пирогів',\n",
       "       'Харківський Масив', 'ВДНГ', 'Липки', 'Поділ', 'Оболонський',\n",
       "       'Голосіївський', 'Шевченківський', 'Новобіличі', 'Солом'янський',\n",
       "       'Солом'янка', 'Мінський Масив', 'Сирець', 'Академмістечко', 'Шулявка',\n",
       "       'Татарка', 'Печерський', 'Осокорки', 'Корчувате', 'Виноградар',\n",
       "       'Дарницький', 'Дніпровський', 'Нивки', 'Чоколівка', 'Подільський',\n",
       "       'Святошинський', 'Деміївка', 'Микільська Борщагівка', 'Авіамістечко',\n",
       "       'Березняки', 'Феофанія', 'Північно-Броварський Масив', 'Стара Дарниця',\n",
       "       'Соцмісто', 'Відрадний', 'Східні Позняки', 'Паньківщина',\n",
       "       'Лівобережний Масив', 'Конча-Заспа', 'Деснянський',\n",
       "       'Вишгородський Масив', 'Лісовий Масив', 'Борщагівка', 'Святошин',\n",
       "       'Троєщина', 'Пуща-Водиця', 'Добрий Шлях', 'Вітряні Гори',\n",
       "       'Кадетський Гай', 'Солдатська Слобідка', 'Звіринець', 'Ґалаґани',\n",
       "       'Куренівка', 'Нова Дарниця', 'Пріорка', 'Чорна Гора', 'Біличі',\n",
       "       'Воскресенка', 'Дарницький Масив', 'Південна Борщагівка',\n",
       "       'Західні Позняки', 'Микільська Слобідка', 'Биківня', 'Берковець',\n",
       "       'Саперна Слобідка', 'Гідропарк', 'Райдужний Масив', 'Мостицький Масив',\n",
       "       'Північні Осокорки', 'Батиєва Гора', 'Бортничі', 'Біличе Поле', 'ДВРЗ',\n",
       "       'Вигурівщина-Троєщина', 'Саперне Поле', 'Залізничний Масив',\n",
       "       'Русанівські Сади', 'Теличка', 'Першотравневий Масив', 'Совки',\n",
       "       'Труханів Острів', 'Олександрівська Слобідка', 'Монтажник', 'Жовтневе',\n",
       "       'Петрівка', 'Перемога', 'Кудрявець'],\n",
       "      dtype='object')"
      ]
     },
     "execution_count": 53,
     "metadata": {},
     "output_type": "execute_result"
    }
   ],
   "source": [
    "defined_distr.index"
   ]
  },
  {
   "cell_type": "code",
   "execution_count": null,
   "metadata": {},
   "outputs": [],
   "source": [
    "#[f(x) if condition else g(x) for x in sequence]"
   ]
  },
  {
   "cell_type": "code",
   "execution_count": 91,
   "metadata": {
    "scrolled": false
   },
   "outputs": [],
   "source": [
    "#[print(d) if d in defined_distr.index else print(None) for d in districs ]"
   ]
  },
  {
   "cell_type": "code",
   "execution_count": 12,
   "metadata": {},
   "outputs": [
    {
     "data": {
      "text/plain": [
       "[]"
      ]
     },
     "execution_count": 12,
     "metadata": {},
     "output_type": "execute_result"
    }
   ],
   "source": [
    "soup.select('realty-preview__info.area')"
   ]
  },
  {
   "cell_type": "code",
   "execution_count": 10,
   "metadata": {},
   "outputs": [],
   "source": [
    "# площа\n",
    "\n",
    "area = []\n",
    "for el in soup.find_all('span',class_ = 'realty-preview__info area'):\n",
    "       area.append(el.text)"
   ]
  },
  {
   "cell_type": "code",
   "execution_count": 103,
   "metadata": {},
   "outputs": [
    {
     "data": {
      "text/plain": [
       "[]"
      ]
     },
     "execution_count": 103,
     "metadata": {},
     "output_type": "execute_result"
    }
   ],
   "source": [
    "area"
   ]
  },
  {
   "cell_type": "code",
   "execution_count": 106,
   "metadata": {},
   "outputs": [],
   "source": [
    "# кількість кімнат\n",
    "# площа\n",
    "\n",
    "rooms = []\n",
    "for el in soup.find_all('span',class_ = 'realty-preview__info.rooms'):\n",
    "       rooms.append(el.text)"
   ]
  },
  {
   "cell_type": "code",
   "execution_count": 117,
   "metadata": {},
   "outputs": [],
   "source": [
    "soup.find(class_ = 'rooms')"
   ]
  },
  {
   "cell_type": "code",
   "execution_count": 95,
   "metadata": {
    "scrolled": true
   },
   "outputs": [
    {
     "data": {
      "text/plain": [
       "['20\\xa0000 грн',\n",
       " '11\\xa0000 грн',\n",
       " '11\\xa0000 грн',\n",
       " '10\\xa0000 грн',\n",
       " '12\\xa0000 грн',\n",
       " '9\\xa0000 грн',\n",
       " '5\\xa0500 грн',\n",
       " '6\\xa0000 грн',\n",
       " '6\\xa0000 грн',\n",
       " '9\\xa0000 грн',\n",
       " '5\\xa0200 грн',\n",
       " '5\\xa0000 грн',\n",
       " '5\\xa0400 грн',\n",
       " '5\\xa0000 грн',\n",
       " '5\\xa0500 грн',\n",
       " '5\\xa0000 грн',\n",
       " '5\\xa0500 грн',\n",
       " '5\\xa0600 грн',\n",
       " '5\\xa0100 грн',\n",
       " '5\\xa0200 грн',\n",
       " '9\\xa0000 грн',\n",
       " '10\\xa0500 грн',\n",
       " '15\\xa0000 грн',\n",
       " '1\\xa0800 $']"
      ]
     },
     "execution_count": 95,
     "metadata": {},
     "output_type": "execute_result"
    }
   ],
   "source": [
    "price = []\n",
    "for el in soup.find_all('div',class_ = 'realty-preview__price'):\n",
    "    price.append(el.text)\n",
    "price"
   ]
  },
  {
   "cell_type": "code",
   "execution_count": 96,
   "metadata": {},
   "outputs": [
    {
     "data": {
      "text/plain": [
       "24"
      ]
     },
     "execution_count": 96,
     "metadata": {},
     "output_type": "execute_result"
    }
   ],
   "source": [
    "len(price)"
   ]
  },
  {
   "cell_type": "code",
   "execution_count": 32,
   "metadata": {
    "scrolled": true
   },
   "outputs": [],
   "source": [
    "address = []\n",
    "for el in soup.find_all('a',class_ = 'realty-preview__info'):\n",
    "       address.append(el.text+',Київ')"
   ]
  },
  {
   "cell_type": "code",
   "execution_count": 33,
   "metadata": {},
   "outputs": [
    {
     "data": {
      "text/plain": [
       "['Дніпровська наб.,Київ',\n",
       " 'просп. Науки, 30,Київ',\n",
       " 'просп. Бажана, 8б,Київ',\n",
       " 'вул. Луценка (Крейсера Аврора), 14а,Київ',\n",
       " 'вул. Регенераторна,Київ',\n",
       " 'вул. Бориспільська, 12в,Київ',\n",
       " 'вул. Бородіна (Сергія Лазо), 6а,Київ',\n",
       " 'вул. Ревуцького, 29,Київ',\n",
       " 'вул. Калнишевського (Михайла Майорова), 1а,Київ',\n",
       " 'вул. Ділова (Георгія Димитрова), 2б,Київ',\n",
       " 'вул. Златоустівська,Київ',\n",
       " 'вул. Регенераторна, 4к2,Київ',\n",
       " 'вул. Саперне Поле, 12,Київ',\n",
       " 'вул. Чавдар, 2,Київ',\n",
       " 'вул. Заньковецької, 7,Київ',\n",
       " 'вул. Велика Васильківська (Червоноармійська), 14,Київ',\n",
       " 'вул. Миколи Пимоненка, 3,Київ',\n",
       " 'просп. Правди, 45а,Київ',\n",
       " 'вул. Грушевського, 9,Київ',\n",
       " 'вул. Сверстюка (Марини Раскової),Київ',\n",
       " 'вул. Деміївська, 33,Київ',\n",
       " 'просп. Бажана, 12,Київ',\n",
       " 'вул. Ніжинська, 5,Київ',\n",
       " 'вул. Почайнинська, 25/49,Київ']"
      ]
     },
     "execution_count": 33,
     "metadata": {},
     "output_type": "execute_result"
    }
   ],
   "source": [
    "address"
   ]
  },
  {
   "cell_type": "code",
   "execution_count": 5,
   "metadata": {
    "scrolled": true
   },
   "outputs": [
    {
     "name": "stdout",
     "output_type": "stream",
     "text": [
      "поверх 1 з 12\n",
      "поверх 2 з 9\n",
      "поверх 4 з 32\n",
      "поверх 2 з 5\n",
      "поверх 16 з 24\n",
      "поверх 1 з 6\n",
      "поверх 3 з 24\n",
      "поверх 5 з 10\n",
      "поверх 9 з 18\n",
      "поверх 3 з 24\n",
      "поверх 16 з 24\n",
      "поверх 11 з 18\n",
      "поверх 18 з 24\n",
      "поверх 16 з 16\n",
      "поверх 9 з 25\n",
      "поверх 11 з 30\n",
      "поверх 1 з 21\n",
      "поверх 9 з 24\n",
      "поверх 10 з 12\n",
      "поверх 13 з 16\n",
      "поверх 7 з 25\n",
      "поверх 4 з 5\n",
      "поверх 13 з 24\n"
     ]
    }
   ],
   "source": [
    "substr = 'поверх'\n",
    "for el in soup.find_all('span',class_ = 'realty-preview__info'):\n",
    "    if substr in el.text:\n",
    "        print(el.text)"
   ]
  },
  {
   "cell_type": "code",
   "execution_count": null,
   "metadata": {},
   "outputs": [],
   "source": []
  }
 ],
 "metadata": {
  "kernelspec": {
   "display_name": "Python 3",
   "language": "python",
   "name": "python3"
  },
  "language_info": {
   "codemirror_mode": {
    "name": "ipython",
    "version": 3
   },
   "file_extension": ".py",
   "mimetype": "text/x-python",
   "name": "python",
   "nbconvert_exporter": "python",
   "pygments_lexer": "ipython3",
   "version": "3.8.5"
  }
 },
 "nbformat": 4,
 "nbformat_minor": 4
}
