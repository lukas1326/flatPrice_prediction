{
 "cells": [
  {
   "cell_type": "code",
   "execution_count": 1,
   "metadata": {},
   "outputs": [],
   "source": [
    "import requests\n",
    "from bs4 import BeautifulSoup"
   ]
  },
  {
   "cell_type": "code",
   "execution_count": 102,
   "metadata": {},
   "outputs": [],
   "source": [
    "import pandas as pd"
   ]
  },
  {
   "cell_type": "code",
   "execution_count": 2,
   "metadata": {},
   "outputs": [],
   "source": [
    "HEADERS = {\n",
    "            'User-Agent': 'Mozilla/5.0 (Windows NT 6.1; WOW64; rv:49.0) Gecko/20100101 Firefox/49.0',\n",
    "            'Accept': 'text/html,application/xhtml+xml,application/xml;q=0.9,*/*;q=0.8',\n",
    "            'Accept-Language': 'en-US,en;q=0.5',\n",
    "            'Accept-Encoding': 'gzip, deflate',\n",
    "            'DNT': '1',\n",
    "            'Connection': 'keep-alive',\n",
    "            'Upgrade-Insecure-Requests': '1'\n",
    "        }\n"
   ]
  },
  {
   "cell_type": "code",
   "execution_count": 3,
   "metadata": {},
   "outputs": [],
   "source": [
    "r = requests.get(SITE, headers = HEADERS)\n"
   ]
  },
  {
   "cell_type": "code",
   "execution_count": 4,
   "metadata": {},
   "outputs": [],
   "source": [
    "soup = BeautifulSoup(r.text, 'lxml')"
   ]
  },
  {
   "cell_type": "code",
   "execution_count": 112,
   "metadata": {},
   "outputs": [],
   "source": [
    "# convert coordinates in degrees to float\n",
    "import re\n",
    "def conv_coordinates(lat):\n",
    "    deg, minutes, seconds, direction =  re.split('[°\\′″]', lat)\n",
    "    return (float(deg) + float(minutes)/60 + float(seconds)/(60*60)) * (-1 if direction in ['W', 'S'] else 1)"
   ]
  },
  {
   "cell_type": "code",
   "execution_count": 32,
   "metadata": {},
   "outputs": [],
   "source": [
    "# check the function\n",
    "SITE = 'https://en.wikipedia.org/wiki/Zhytomyrska_(Kyiv_Metro)'"
   ]
  },
  {
   "cell_type": "code",
   "execution_count": 33,
   "metadata": {},
   "outputs": [],
   "source": [
    "r = requests.get(SITE, headers = HEADERS)"
   ]
  },
  {
   "cell_type": "code",
   "execution_count": 34,
   "metadata": {},
   "outputs": [],
   "source": [
    "soup = BeautifulSoup(r.text, 'lxml')"
   ]
  },
  {
   "cell_type": "code",
   "execution_count": 39,
   "metadata": {},
   "outputs": [
    {
     "data": {
      "text/plain": [
       "'50°27′21″N'"
      ]
     },
     "execution_count": 39,
     "metadata": {},
     "output_type": "execute_result"
    }
   ],
   "source": [
    "lat = soup.find('span',class_ = 'latitude')\n",
    "lat.text"
   ]
  },
  {
   "cell_type": "code",
   "execution_count": 40,
   "metadata": {},
   "outputs": [
    {
     "name": "stdout",
     "output_type": "stream",
     "text": [
      "50.45583333333334\n"
     ]
    }
   ],
   "source": [
    "conv_coordinates(lat.text)"
   ]
  },
  {
   "cell_type": "code",
   "execution_count": 38,
   "metadata": {},
   "outputs": [
    {
     "data": {
      "text/plain": [
       "<span class=\"longitude\">30°21′51″E</span>"
      ]
     },
     "execution_count": 38,
     "metadata": {},
     "output_type": "execute_result"
    }
   ],
   "source": [
    "soup.find('span',class_ = 'longitude')"
   ]
  },
  {
   "cell_type": "code",
   "execution_count": 41,
   "metadata": {},
   "outputs": [],
   "source": [
    "SITE = 'https://en.wikipedia.org/wiki/Sviatoshynsko%E2%80%93Brovarska_line'"
   ]
  },
  {
   "cell_type": "code",
   "execution_count": 42,
   "metadata": {},
   "outputs": [],
   "source": [
    "r = requests.get(SITE, headers = HEADERS)\n",
    "soup = BeautifulSoup(r.text, 'lxml')"
   ]
  },
  {
   "cell_type": "code",
   "execution_count": 59,
   "metadata": {},
   "outputs": [
    {
     "name": "stdout",
     "output_type": "stream",
     "text": [
      "72\n"
     ]
    }
   ],
   "source": [
    "metro_station = []\n",
    "for li in soup.find_all('li'):\n",
    "    try:\n",
    "        metro = li.a.get('href')\n",
    "        if '(Kyiv_Metro)'in metro:\n",
    "            metro_station.append(metro)\n",
    "    except:\n",
    "        None\n",
    "print(len(metro_station))"
   ]
  },
  {
   "cell_type": "code",
   "execution_count": 60,
   "metadata": {},
   "outputs": [],
   "source": [
    "metro_link = set(metro_station)"
   ]
  },
  {
   "cell_type": "code",
   "execution_count": 85,
   "metadata": {},
   "outputs": [],
   "source": [
    "metro_link = list(metro_link)"
   ]
  },
  {
   "cell_type": "code",
   "execution_count": 115,
   "metadata": {},
   "outputs": [
    {
     "data": {
      "text/plain": [
       "[('Sviatoshyn (Kyiv Metro)', 50.4575, 30.391944444444444),\n",
       " ('Vystavkovyi Tsentr (Kyiv Metro)', 50.3825, 30.4775),\n",
       " ('Khreshchatyk (Kyiv Metro)', 50.447222222222216, 30.522777777777776),\n",
       " ('Dorohozhychi (Kyiv Metro)', 50.47361111111111, 30.449166666666667),\n",
       " ('Syrets (Kyiv Metro)', 50.47638888888889, 30.430833333333336),\n",
       " ('Kontraktova Ploshcha (Kyiv Metro)', 50.46527777777778, 30.516666666666666),\n",
       " ('Zoloti Vorota (Kyiv Metro)', 50.44833333333333, 30.513333333333332),\n",
       " ('Vokzalna (Kyiv Metro)', 50.44166666666666, 30.488055555555558),\n",
       " ('Maidan Nezalezhnosti (Kyiv Metro)', 50.45, 30.524444444444445),\n",
       " ('Palats Sportu (Kyiv Metro)', 50.43805555555555, 30.520833333333332),\n",
       " ('Chervonyi Khutir (Kyiv Metro)', 50.40888888888889, 30.694444444444446),\n",
       " ('Beresteiska (Kyiv Metro)', 50.45861111111111, 30.419722222222223),\n",
       " ('Vyrlytsia (Kyiv Metro)', 50.40333333333333, 30.66611111111111),\n",
       " ('Pochaina (Kyiv Metro)', 50.48694444444445, 30.497777777777777),\n",
       " ('Teremky (Kyiv Metro)', 50.367044444444446, 30.454202777777777),\n",
       " ('Obolon (Kyiv Metro)', 50.50138888888889, 30.498055555555556),\n",
       " ('Olimpiiska (Kyiv Metro)', 50.43222222222222, 30.516111111111112),\n",
       " ('Demiivska (Kyiv Metro)', 50.40479166666667, 30.51683333333333),\n",
       " ('Tarasa Shevchenka (Kyiv Metro)', 50.473055555555554, 30.505277777777778),\n",
       " ('Darnytsia (Kyiv Metro)', 50.455555555555556, 30.613333333333333),\n",
       " ('Zhytomyrska (Kyiv Metro)', 50.45583333333334, 30.36416666666667),\n",
       " ('Lisova (Kyiv Metro)', 50.464444444444446, 30.645),\n",
       " ('Vydubychi (Kyiv Metro)', 50.40222222222222, 30.560833333333335),\n",
       " ('Klovska (Kyiv Metro)', 50.43694444444444, 30.531666666666666),\n",
       " ('Lukianivska (Kyiv Metro)', 50.462500000000006, 30.481944444444444),\n",
       " ('Kharkivska (Kyiv Metro)', 50.40083333333333, 30.65222222222222),\n",
       " ('Pozniaky (Kyiv Metro)', 50.39805555555556, 30.633333333333333),\n",
       " ('Heroiv Dnipra (Kyiv Metro)', 50.522777777777776, 30.498611111111114),\n",
       " ('Lvivska Brama (Kyiv Metro)', 50.454347222222225, 30.50301388888889),\n",
       " ('Osokorky (Kyiv Metro)', 50.39555555555555, 30.615833333333335),\n",
       " ('Holosiivska (Kyiv Metro)', 50.3975, 30.508333333333333),\n",
       " ('Boryspilska (Kyiv Metro)', 50.40333333333333, 30.68277777777778),\n",
       " ('Lybidska (Kyiv Metro)', 50.41305555555555, 30.524444444444445),\n",
       " ('Telychka (Kyiv Metro)', 50.396388888888886, 30.571666666666665),\n",
       " ('Ipodrom (Kyiv Metro)', 50.37638888888889, 30.468888888888888),\n",
       " ('Livoberezhna (Kyiv Metro)', 50.45194444444445, 30.598333333333333),\n",
       " ('Slavutych (Kyiv Metro)', 50.39416666666666, 30.604166666666668),\n",
       " ('Chernihivska (Kyiv Metro)', 50.46, 30.630833333333335),\n",
       " ('Druzhby Narodiv (Kyiv Metro)', 50.418055555555554, 30.545),\n",
       " ('Minska (Kyiv Metro)', 50.51222222222222, 30.498611111111114),\n",
       " ('Poshtova Ploshcha (Kyiv Metro)', 50.45916666666667, 30.525),\n",
       " ('Pecherska (Kyiv Metro)', 50.427499999999995, 30.53888888888889),\n",
       " ('Teatralna (Kyiv Metro)', 50.445277777777775, 30.518055555555556),\n",
       " ('Palats \"Ukrayina\" (Kyiv Metro)', 50.420833333333334, 30.520833333333332),\n",
       " ('Akademmistechko (Kyiv Metro)', 50.46555555555556, 30.355),\n",
       " ('Ploshcha Lva Tolstoho (Kyiv Metro)', 50.43944444444444, 30.516666666666666),\n",
       " ('Vasylkivska (Kyiv Metro)', 50.39333333333333, 30.488055555555558),\n",
       " ('Nyvky (Kyiv Metro)', 50.45916666666667, 30.406388888888888),\n",
       " ('Shuliavska (Kyiv Metro)', 50.455000000000005, 30.445555555555554),\n",
       " ('Politekhnichnyi Instytut (Kyiv Metro)',\n",
       "  50.450833333333335,\n",
       "  30.46638888888889),\n",
       " ('Dnipro (Kyiv Metro)', 50.441111111111105, 30.559166666666666),\n",
       " ('Arsenalna (Kyiv Metro)', 50.44444444444444, 30.545555555555556),\n",
       " ('Hydropark (Kyiv Metro)', 50.44583333333333, 30.576944444444443),\n",
       " ('Universytet (Kyiv Metro)', 50.44416666666666, 30.50611111111111)]"
      ]
     },
     "execution_count": 115,
     "metadata": {},
     "output_type": "execute_result"
    }
   ],
   "source": [
    "SITE = 'https://en.wikipedia.org'\n",
    "metro_lat = []\n",
    "for i in metro_link:\n",
    "    r = requests.get(SITE+i, headers=HEADERS)\n",
    "    if r.status_code == 200:\n",
    "        soup = BeautifulSoup(r.text, 'lxml')\n",
    "        el1 = soup.find('span', class_='latitude').text\n",
    "        el2 = soup.find('span', class_='longitude').text\n",
    "        station = soup.find('h1', class_='firstHeading').text\n",
    "        el1 = conv_coordinates(el1)\n",
    "        el2 = conv_coordinates(el2)\n",
    "        \n",
    "        \n",
    "        coord = (station,el1,el2)\n",
    "        \n",
    "        metro_lat.append(coord)\n",
    "metro_lat"
   ]
  },
  {
   "cell_type": "code",
   "execution_count": 117,
   "metadata": {},
   "outputs": [],
   "source": [
    "metro = pd.DataFrame(metro_lat)"
   ]
  },
  {
   "cell_type": "code",
   "execution_count": 118,
   "metadata": {},
   "outputs": [],
   "source": [
    "import pickle\n",
    "with open('metro.pickle', 'wb') as f:     #pickle працює в бінарному режимі \n",
    "    pickle.dump(metro, f)"
   ]
  },
  {
   "cell_type": "code",
   "execution_count": 97,
   "metadata": {},
   "outputs": [
    {
     "data": {
      "text/plain": [
       "(54, 54)"
      ]
     },
     "execution_count": 97,
     "metadata": {},
     "output_type": "execute_result"
    }
   ],
   "source": [
    "len(metro_lat),len(metro_link)"
   ]
  },
  {
   "cell_type": "code",
   "execution_count": null,
   "metadata": {},
   "outputs": [],
   "source": []
  }
 ],
 "metadata": {
  "kernelspec": {
   "display_name": "Python 3",
   "language": "python",
   "name": "python3"
  },
  "language_info": {
   "codemirror_mode": {
    "name": "ipython",
    "version": 3
   },
   "file_extension": ".py",
   "mimetype": "text/x-python",
   "name": "python",
   "nbconvert_exporter": "python",
   "pygments_lexer": "ipython3",
   "version": "3.8.5"
  }
 },
 "nbformat": 4,
 "nbformat_minor": 4
}
